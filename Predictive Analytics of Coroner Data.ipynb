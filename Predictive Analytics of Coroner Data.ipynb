{
 "cells": [
  {
   "cell_type": "code",
   "execution_count": 1,
   "metadata": {},
   "outputs": [],
   "source": [
    "import sys\n",
    "\n",
    "import re, numpy as np, pandas as pd\n",
    "from pprint import pprint\n",
    "\n",
    "import matplotlib.pyplot as plt\n",
    "from io import StringIO\n",
    "import seaborn as sns\n",
    "import pandas as pd\n",
    "\n",
    "%matplotlib inline"
   ]
  },
  {
   "cell_type": "code",
   "execution_count": 2,
   "metadata": {
    "scrolled": true
   },
   "outputs": [
    {
     "data": {
      "text/html": [
       "<div>\n",
       "<style scoped>\n",
       "    .dataframe tbody tr th:only-of-type {\n",
       "        vertical-align: middle;\n",
       "    }\n",
       "\n",
       "    .dataframe tbody tr th {\n",
       "        vertical-align: top;\n",
       "    }\n",
       "\n",
       "    .dataframe thead th {\n",
       "        text-align: right;\n",
       "    }\n",
       "</style>\n",
       "<table border=\"1\" class=\"dataframe\">\n",
       "  <thead>\n",
       "    <tr style=\"text-align: right;\">\n",
       "      <th></th>\n",
       "      <th>doc_id</th>\n",
       "      <th>label</th>\n",
       "      <th>text</th>\n",
       "    </tr>\n",
       "  </thead>\n",
       "  <tbody>\n",
       "    <tr>\n",
       "      <th>0</th>\n",
       "      <td>2001-03810</td>\n",
       "      <td>child_maltreatment</td>\n",
       "      <td>MOTHER LEAVES BABY WITH LIVE IN BOYFRIEND 05-2...</td>\n",
       "    </tr>\n",
       "    <tr>\n",
       "      <th>1</th>\n",
       "      <td>2000-00214</td>\n",
       "      <td>asphyxiation</td>\n",
       "      <td>FOUND IN ACUTE RESPIRATORY FAILURE AT RESIDENC...</td>\n",
       "    </tr>\n",
       "    <tr>\n",
       "      <th>2</th>\n",
       "      <td>2000-00690</td>\n",
       "      <td>asphyxiation</td>\n",
       "      <td>DEC PLACED DOWN FOR NAP BY MOTHER'S BOYFRIEND ...</td>\n",
       "    </tr>\n",
       "    <tr>\n",
       "      <th>3</th>\n",
       "      <td>2001-01256</td>\n",
       "      <td>asphyxiation</td>\n",
       "      <td>02-14-2001.  PARAMEDICS WERE CALLED ON A 4 MON...</td>\n",
       "    </tr>\n",
       "    <tr>\n",
       "      <th>4</th>\n",
       "      <td>2001-01756</td>\n",
       "      <td>asphyxiation</td>\n",
       "      <td>DECEDENT WAS LKA BY FATHER WHEN HE FED DECEDEN...</td>\n",
       "    </tr>\n",
       "  </tbody>\n",
       "</table>\n",
       "</div>"
      ],
      "text/plain": [
       "       doc_id               label  \\\n",
       "0  2001-03810  child_maltreatment   \n",
       "1  2000-00214        asphyxiation   \n",
       "2  2000-00690        asphyxiation   \n",
       "3  2001-01256        asphyxiation   \n",
       "4  2001-01756        asphyxiation   \n",
       "\n",
       "                                                text  \n",
       "0  MOTHER LEAVES BABY WITH LIVE IN BOYFRIEND 05-2...  \n",
       "1  FOUND IN ACUTE RESPIRATORY FAILURE AT RESIDENC...  \n",
       "2  DEC PLACED DOWN FOR NAP BY MOTHER'S BOYFRIEND ...  \n",
       "3  02-14-2001.  PARAMEDICS WERE CALLED ON A 4 MON...  \n",
       "4  DECEDENT WAS LKA BY FATHER WHEN HE FED DECEDEN...  "
      ]
     },
     "execution_count": 2,
     "metadata": {},
     "output_type": "execute_result"
    }
   ],
   "source": [
    "#Use pandas to load the csv file as a dataframe\n",
    "df = pd.read_csv('F:/Examples/Python Notebooks/death_labels_short.csv')\n",
    "\n",
    "#Look at the first few records to make sure it loaded correctly\n",
    "df.head()"
   ]
  },
  {
   "cell_type": "code",
   "execution_count": 3,
   "metadata": {},
   "outputs": [
    {
     "data": {
      "text/html": [
       "<div>\n",
       "<style scoped>\n",
       "    .dataframe tbody tr th:only-of-type {\n",
       "        vertical-align: middle;\n",
       "    }\n",
       "\n",
       "    .dataframe tbody tr th {\n",
       "        vertical-align: top;\n",
       "    }\n",
       "\n",
       "    .dataframe thead th {\n",
       "        text-align: right;\n",
       "    }\n",
       "</style>\n",
       "<table border=\"1\" class=\"dataframe\">\n",
       "  <thead>\n",
       "    <tr style=\"text-align: right;\">\n",
       "      <th></th>\n",
       "      <th>label</th>\n",
       "      <th>text</th>\n",
       "      <th>label_id</th>\n",
       "    </tr>\n",
       "  </thead>\n",
       "  <tbody>\n",
       "    <tr>\n",
       "      <th>0</th>\n",
       "      <td>child_maltreatment</td>\n",
       "      <td>MOTHER LEAVES BABY WITH LIVE IN BOYFRIEND 05-2...</td>\n",
       "      <td>0</td>\n",
       "    </tr>\n",
       "    <tr>\n",
       "      <th>1</th>\n",
       "      <td>asphyxiation</td>\n",
       "      <td>FOUND IN ACUTE RESPIRATORY FAILURE AT RESIDENC...</td>\n",
       "      <td>1</td>\n",
       "    </tr>\n",
       "    <tr>\n",
       "      <th>2</th>\n",
       "      <td>asphyxiation</td>\n",
       "      <td>DEC PLACED DOWN FOR NAP BY MOTHER'S BOYFRIEND ...</td>\n",
       "      <td>1</td>\n",
       "    </tr>\n",
       "    <tr>\n",
       "      <th>3</th>\n",
       "      <td>asphyxiation</td>\n",
       "      <td>02-14-2001.  PARAMEDICS WERE CALLED ON A 4 MON...</td>\n",
       "      <td>1</td>\n",
       "    </tr>\n",
       "    <tr>\n",
       "      <th>4</th>\n",
       "      <td>asphyxiation</td>\n",
       "      <td>DECEDENT WAS LKA BY FATHER WHEN HE FED DECEDEN...</td>\n",
       "      <td>1</td>\n",
       "    </tr>\n",
       "  </tbody>\n",
       "</table>\n",
       "</div>"
      ],
      "text/plain": [
       "                label                                               text  \\\n",
       "0  child_maltreatment  MOTHER LEAVES BABY WITH LIVE IN BOYFRIEND 05-2...   \n",
       "1        asphyxiation  FOUND IN ACUTE RESPIRATORY FAILURE AT RESIDENC...   \n",
       "2        asphyxiation  DEC PLACED DOWN FOR NAP BY MOTHER'S BOYFRIEND ...   \n",
       "3        asphyxiation  02-14-2001.  PARAMEDICS WERE CALLED ON A 4 MON...   \n",
       "4        asphyxiation  DECEDENT WAS LKA BY FATHER WHEN HE FED DECEDEN...   \n",
       "\n",
       "   label_id  \n",
       "0         0  \n",
       "1         1  \n",
       "2         1  \n",
       "3         1  \n",
       "4         1  "
      ]
     },
     "execution_count": 3,
     "metadata": {},
     "output_type": "execute_result"
    }
   ],
   "source": [
    "col = ['label', 'text']\n",
    "df = df[col]\n",
    "df = df[pd.notnull(df['text'])]\n",
    "df.columns = ['label', 'text']\n",
    "df['label_id'] = df['label'].factorize()[0]\n",
    "label_id_df = df[['label', 'label_id']].drop_duplicates().sort_values('label_id')\n",
    "label_to_id = dict(label_id_df.values)\n",
    "id_to_label = dict(label_id_df[['label_id', 'label']].values)\n",
    "df.head()"
   ]
  },
  {
   "cell_type": "code",
   "execution_count": 4,
   "metadata": {
    "scrolled": true
   },
   "outputs": [
    {
     "data": {
      "text/plain": [
       "<matplotlib.axes._subplots.AxesSubplot at 0x9b24f28>"
      ]
     },
     "execution_count": 4,
     "metadata": {},
     "output_type": "execute_result"
    },
    {
     "data": {
      "image/png": "[encoded data removed]",
      "text/plain": [
       "<Figure size 432x288 with 1 Axes>"
      ]
     },
     "metadata": {},
     "output_type": "display_data"
    }
   ],
   "source": [
    "# Note that the dataset is not balanced so in the next version it is\n",
    "# important to oversample and understample\n",
    "\n",
    "df.groupby('label').text.count().plot.bar(ylim=0)"
   ]
  },
  {
   "cell_type": "code",
   "execution_count": 5,
   "metadata": {},
   "outputs": [
    {
     "data": {
      "text/plain": [
       "(397, 854)"
      ]
     },
     "execution_count": 5,
     "metadata": {},
     "output_type": "execute_result"
    }
   ],
   "source": [
    "# We use the Machine Learning Library called sklearn \n",
    "from sklearn.feature_extraction import text\n",
    "from sklearn.feature_extraction.text import TfidfVectorizer\n",
    "\n",
    "my_stop_words = text.ENGLISH_STOP_WORDS.union([\"nfd\", \"nok\", \"gave\", \"around\", \"bft\", \"old\", \"per\", \"upon\", \"went\", \"also\",  \"baby\", \"found\", \"suspect\", \"custody\", \"mother\", \"child\",\n",
    "               \"hospital\", \"decedent\",  \"gsw\", \"poss\", \"pron\", \"see\", \"hrs\", \"adm\", \"ajac\", \"antelop\", \"ave\", \"came\", \"trans\", \"transport\", \"hosp\", \"trauma\",\n",
    "               \"ccs\", \"close\", \"come\", \"daniel\", \"date\", \"day\", \"dec\", \"decd\", \"deceas\", \"deced\", \"det\", \"determin\", \"children\", \"ago\", \"approximate\", \n",
    "               \"approximately\", \"antelope\", \"ages\", \"later\", \"probably\", \"probable\", \"new\", \"notifi\", \"notify\", \"notification\", \"miller\",\n",
    "               \"black\", \"boy\", \"can\", \"call\", \"case\", \"come\", \"done\", \"find\", \"fnd\", \"give\", \"given\", \"hour\", \"huntington\", \"lapd\", \"lasd\", \"lka\", \n",
    "               \"minute\", \"min\", \"ofcf\", \"age\", \"month\", \"months\", \"paramedics\", \"paramedic\", \"state\", \"time\", \"times\", \"day\", \"days\", \"approximate\", \"approximately\",\n",
    "               \"pend\", \"pending\", \"pron\", \"pronounce\", \"pronounced\", \"sdh\", \"sinc\", \"trans\", \"transfer\", \"tran\", \"transport\", \"traumat\", \"trauma\", \"year\", \"years\",\n",
    "               \"develop\", \"effect\", \"expect\", \"fine\", \"freeman\", \"hollywood\", \"hour\", \"info\", \"lacharbor\", \"lacusc\", \"transported\", \"traumas\", \"mothers\",\n",
    "               \"now\", \"occ\", \"offic\", \"one\", \"onto\", \"right\", \"told\", \"took\", \"two\", \"tri\", \"unk\", \"use\", \"year\", \"twohour\", \"proper\", \"ongoing\", \"fernandez\",\n",
    "               \"yearold\", \"via\", \"will\", \"look\", \"along\", \"place\", \"factor\", \"abd\", \"mlk\", \"chp\", \"come\", \"didnt\", \"eng\", \"five\", \"howev\", \"however\", \"los\", \"hx\", \"fd\", \"ra\",\n",
    "               \"garcia\", \"yrs\", \"lapdacu\", \"lacofd\", \"lafd\", \"autopsy\", \"autopsi\", \"request\", \"requested\", \"detect\", \"detective\", \"report\", \"reports\", \"reported\", \"rodriguez\", \n",
    "                \"hours\", \"hour\", \"ofcr\", \"chla\", \"staff\", \"noted\", \"shortly\", \"arrival\", \"notice\", \"going\", \" st\", \" francis\", \"center\", \"yr\", \"male\", \"angeles\", \"county\", \"hispanic\", \"female\",\n",
    "               \"two\", \"see\", \"case\", \"notes\", \"note\", \"martinez\", \"ortiz\", \"centinela\", \"called\", \"calls\", \"caller\", \"notification\",\"det\",  \"cell\", \"phone\", \"number\", \"contact\", \"information\", \"detectives\", \"detective\", \"request\", \"requested\",\n",
    "               \"level\", \"tens\", \"franci\", \"order\", \"abl\", \"able\", \"ucla\", \"ronald\", \"reagan\", \"kaiser\", \"move\", \"avail\", \"secondary\", \"tense\", \"region\", \"report\", \"extensive\", \"require\", \"prior\", \"examination\",\n",
    "               \"valley\", \"taylor\", \"california\", \"throughout\",  \"chavez\", \"fathersuspect\", \"firefight\", \"firefighter\", \"firefighters\",\"follow\", \"coron\", \"coroner\", \"coroners\", \"torr\", \"torrance\", \"west\", \"white\", \"whether\", \"whose\", \"without\", \"within\", \"versus\", \"various\",\n",
    "               \"across\", \"addit\", \"additional\", \"afternoon\", \"allow\", \"ambulance\", \"ambul\", \"angel\", \"ask\", \"asked\", \"asking\", \"autopsi\", \"away\", \"autopsyse\", \"begin\", \"began\", \"bring\",\n",
    "               \"brown\", \"come\", \"323\", \"890\", \"5500\", \"562\", \"2005\", \"213\", \"485\", \"4220\", \"818\", \"756\", \"8748\", \"24\", \"2015\", \"fsc\", \"apt\", \"smith\", \"post\", \"result\", \"street\", \"comfort\", \"make\",  \"apartment\", \"number\", \"autopsy,\" ,\"non\", \"apart\", \"give\", \"sheriff\", \"roadway\",\"presbyterian\", \"pomona\",  \"get\", \"pmd\", \"sgt\", \"sergeant\", \"six\", \"want\", \"week\",\"2009\", \"hour\", \"notification\", \"autopsy\", \"requested\", \"case\", \"decedent\", \"medical\", \"mother\", \"paramedics\", \"cc\", \"07\", \"10\", \"2014\", \"year\", \"old\", \"lac\", \"usc\", \"baby\", \"911\", \"pronounced\", \"hosp\", \"hospital\", \"trans\", \"transported\"])\n",
    "\n",
    "# For each term, calculate the TF-IDF, using the log of the frequency, normalization and bi and trigrams, as these may carry different meaning\n",
    "tfidf = TfidfVectorizer(sublinear_tf=True, min_df=5, norm='l2', encoding='latin-1', ngram_range=(1, 3),  stop_words=my_stop_words)\n",
    "features = tfidf.fit_transform(df.text).toarray()\n",
    "labels = df.label_id\n",
    "features.shape"
   ]
  },
  {
   "cell_type": "code",
   "execution_count": 6,
   "metadata": {},
   "outputs": [
    {
     "name": "stdout",
     "output_type": "stream",
     "text": [
      "# 'asphyxiation':\n",
      "  . Most correlated unigrams:\n",
      ". cold\n",
      ". sids\n",
      ". recent\n",
      ". pillow\n",
      ". foul\n",
      ". play\n",
      "  . Most correlated bigrams:\n",
      ". play suspected\n",
      ". unresponsive bed\n",
      ". sleeping bed\n",
      ". bed father\n",
      ". known history\n",
      ". foul play\n",
      "  . Most correlated trigrams:\n",
      ". shot wound head\n",
      ". history good health\n",
      ". multiple stab wounds\n",
      ". gunshot wound head\n",
      ". gun shot wound\n",
      ". foul play suspected\n",
      "# 'child_maltreatment':\n",
      "  . Most correlated unigrams:\n",
      ". subdural\n",
      ". bruises\n",
      ". retinal\n",
      ". abuse\n",
      ". battered\n",
      ". shaken\n",
      "  . Most correlated bigrams:\n",
      ". numerous bruises\n",
      ". physical abuse\n",
      ". multiple bruises\n",
      ". subdural hematoma\n",
      ". shaken syndrome\n",
      ". retinal hemorrhages\n",
      "  . Most correlated trigrams:\n",
      ". resuscitated cardiac arrest\n",
      ". altered mental status\n",
      ". sexual assault kit\n",
      ". bilateral retinal hemorrhages\n",
      ". gun shot wound\n",
      ". declared brain dead\n",
      "# 'family_violence':\n",
      "  . Most correlated unigrams:\n",
      ". evening\n",
      ". brother\n",
      ". suicide\n",
      ". decedents\n",
      ". self\n",
      ". siblings\n",
      "  . Most correlated bigrams:\n",
      ". local station\n",
      ". family residence\n",
      ". inflicted gunshot\n",
      ". area father\n",
      ". self inflicted\n",
      ". residence siblings\n",
      "  . Most correlated trigrams:\n",
      ". multiple stab wounds\n",
      ". unknown mechanism injury\n",
      ". death emergency room\n",
      ". shot wound shot\n",
      ". self inflicted gunshot\n",
      ". inflicted gunshot wound\n",
      "# 'fatal_neglect':\n",
      "  . Most correlated unigrams:\n",
      ". tub\n",
      ". drowned\n",
      ". drowning\n",
      ". unattended\n",
      ". water\n",
      ". bathtub\n",
      "  . Most correlated bigrams:\n",
      ". bathtub left\n",
      ". near drowning\n",
      ". bath tub\n",
      ". drowning bathtub\n",
      ". unattended bathtub\n",
      ". left unattended\n",
      "  . Most correlated trigrams:\n",
      ". multiple stab wounds\n",
      ". gunshot wound head\n",
      ". history good health\n",
      ". resuscitated emergency room\n",
      ". gun shot wound\n",
      ". left unattended bathtub\n",
      "# 'homicide':\n",
      "  . Most correlated unigrams:\n",
      ". gunshot\n",
      ". fired\n",
      ". shooting\n",
      ". gun\n",
      ". wound\n",
      ". shot\n",
      "  . Most correlated bigrams:\n",
      ". drive shooting\n",
      ". gunshot wound\n",
      ". shot head\n",
      ". wound head\n",
      ". shot wound\n",
      ". gun shot\n",
      "  . Most correlated trigrams:\n",
      ". gun shot wounds\n",
      ". multiple gun shot\n",
      ". shot wound torso\n",
      ". shot wound head\n",
      ". gunshot wound head\n",
      ". gun shot wound\n",
      "# 'neonaticide':\n",
      "  . Most correlated unigrams:\n",
      ". dumpster\n",
      ". fetus\n",
      ". plastic\n",
      ". bag\n",
      ". newborn\n",
      ". trash\n",
      "  . Most correlated bigrams:\n",
      ". trash bag\n",
      ". cord attached\n",
      ". newborn infant\n",
      ". umbilical cord\n",
      ". trash dumpster\n",
      ". plastic bag\n",
      "  . Most correlated trigrams:\n",
      ". shot wound head\n",
      ". gunshot wound head\n",
      ". gun shot wound\n",
      ". intrauterine fetal demise\n",
      ". unknown mechanism injury\n",
      ". umbilical cord attached\n"
     ]
    }
   ],
   "source": [
    "# Use the chi-square to find terms that are most correlated within each category\n",
    "from sklearn.feature_selection import chi2\n",
    "import numpy as np\n",
    "import scipy\n",
    "N = 6\n",
    "for label, label_id in sorted(label_to_id.items()):\n",
    "  features_chi2 = chi2(features, labels == label_id)\n",
    "  indices = np.argsort(features_chi2[0])\n",
    "  feature_names = np.array(tfidf.get_feature_names())[indices]\n",
    "  unigrams = [v for v in feature_names if len(v.split(' ')) == 1]\n",
    "  bigrams = [v for v in feature_names if len(v.split(' ')) == 2]\n",
    "  trigrams = [v for v in feature_names if len(v.split(' ')) == 3]\n",
    "  print(\"# '{}':\".format(label))\n",
    "  print(\"  . Most correlated unigrams:\\n. {}\".format('\\n. '.join(unigrams[-N:])))\n",
    "  print(\"  . Most correlated bigrams:\\n. {}\".format('\\n. '.join(bigrams[-N:])))\n",
    "  print(\"  . Most correlated trigrams:\\n. {}\".format('\\n. '.join(trigrams[-N:])))\n",
    "\n"
   ]
  },
  {
   "cell_type": "code",
   "execution_count": 7,
   "metadata": {},
   "outputs": [
    {
     "data": {
      "text/plain": [
       "<matplotlib.legend.Legend at 0xb23be10>"
      ]
     },
     "execution_count": 7,
     "metadata": {},
     "output_type": "execute_result"
    },
    {
     "data": {
      "image/png": "[encoded data removed]",
      "text/plain": [
       "<Figure size 560x400 with 1 Axes>"
      ]
     },
     "metadata": {},
     "output_type": "display_data"
    }
   ],
   "source": [
    "# We use t-SNE to project the multidimensional data onto a 2D plaine.\n",
    "from sklearn.manifold import TSNE\n",
    "from matplotlib.pyplot import figure\n",
    "figure(num=None, figsize=(7, 5), dpi=80, facecolor='w', edgecolor='k')\n",
    "\n",
    "# I am going to use all the data, change the '1' to a different value to sample less \n",
    "SAMPLE_SIZE = int(len(features) * .9)\n",
    "\n",
    "np.random.seed(0)\n",
    "indices = np.random.choice(range(len(features)), size=SAMPLE_SIZE, replace=False)\n",
    "projected_features = TSNE(n_components=2, random_state=0).fit_transform(features[indices])\n",
    "colors = ['pink', 'green', 'midnightblue', 'orange', 'darkgrey']\n",
    "for label, label_id in sorted(label_to_id.items()):\n",
    "    points = projected_features[(labels[indices] == label_id).values]\n",
    "    plt.scatter(points[:, 0], points[:, 1], s=30,  label=label)\n",
    "plt.title(\"tf-idf Feature Vector t-SNE\",\n",
    "          fontdict=dict(fontsize=15))\n",
    "plt.legend()\n",
    "\n",
    "#The result is not great, and some fine tuning will be in order"
   ]
  },
  {
   "cell_type": "code",
   "execution_count": 8,
   "metadata": {},
   "outputs": [
    {
     "name": "stdout",
     "output_type": "stream",
     "text": [
      "(297,) (297,)\n",
      "(100,) (100,)\n"
     ]
    }
   ],
   "source": [
    "from sklearn.model_selection import train_test_split\n",
    "from sklearn.feature_extraction.text import CountVectorizer\n",
    "from sklearn.feature_extraction.text import TfidfTransformer\n",
    "from sklearn.naive_bayes import MultinomialNB\n",
    "X_train, X_test, y_train, y_test = train_test_split(df['text'], df['label'], random_state = 0)\n",
    "count_vect = CountVectorizer()\n",
    "X_train_counts = count_vect.fit_transform(X_train)\n",
    "tfidf_transformer = TfidfTransformer()\n",
    "X_train_tfidf = tfidf_transformer.fit_transform(X_train_counts)\n",
    "clf = MultinomialNB().fit(X_train_tfidf, y_train)\n",
    "print (X_train.shape, y_train.shape)\n",
    "print (X_test.shape, y_test.shape)"
   ]
  },
  {
   "cell_type": "code",
   "execution_count": 9,
   "metadata": {},
   "outputs": [
    {
     "name": "stdout",
     "output_type": "stream",
     "text": [
      "['neonaticide']\n"
     ]
    }
   ],
   "source": [
    "print(clf.predict(count_vect.transform([\"newborn infant found dead under suspicious circumstances possible drowning in bathroom shower suspect mother in custody \"])))"
   ]
  },
  {
   "cell_type": "code",
   "execution_count": 10,
   "metadata": {},
   "outputs": [
    {
     "name": "stdout",
     "output_type": "stream",
     "text": [
      "['child_maltreatment']\n"
     ]
    }
   ],
   "source": [
    "print(clf.predict(count_vect.transform([\"intra-uterine fetal demise due to homicide of mother\"])))"
   ]
  },
  {
   "cell_type": "code",
   "execution_count": 11,
   "metadata": {},
   "outputs": [
    {
     "name": "stdout",
     "output_type": "stream",
     "text": [
      "['child_maltreatment']\n"
     ]
    }
   ],
   "source": [
    "print(clf.predict(count_vect.transform([\"child was beaten by step father\"])))"
   ]
  },
  {
   "cell_type": "code",
   "execution_count": 12,
   "metadata": {},
   "outputs": [
    {
     "name": "stdout",
     "output_type": "stream",
     "text": [
      "['homicide']\n"
     ]
    }
   ],
   "source": [
    "print(clf.predict(count_vect.transform([\"Boy was shot Nate's Liquor Mart.\"])))"
   ]
  },
  {
   "cell_type": "code",
   "execution_count": 13,
   "metadata": {},
   "outputs": [
    {
     "name": "stdout",
     "output_type": "stream",
     "text": [
      "['child_maltreatment']\n"
     ]
    }
   ],
   "source": [
    "print(clf.predict(count_vect.transform([\"baby declared dead after being shaken .\"])))"
   ]
  },
  {
   "cell_type": "code",
   "execution_count": 14,
   "metadata": {},
   "outputs": [
    {
     "name": "stdout",
     "output_type": "stream",
     "text": [
      "['child_maltreatment']\n"
     ]
    }
   ],
   "source": [
    "print(clf.predict(count_vect.transform([\"Navarro, who had checked into the motel earlier Monday, allegedly drowned her son and then tried to kill herself with over-the-counter sleeping aids, Olivieri said. After police arrived, Navarro was taken to a hospital for treatment and was later released into police custody. \"])))"
   ]
  },
  {
   "cell_type": "code",
   "execution_count": 15,
   "metadata": {},
   "outputs": [
    {
     "name": "stderr",
     "output_type": "stream",
     "text": [
      "C:\\Users\\g.barboza\\AppData\\Local\\Continuum\\anaconda3\\lib\\site-packages\\sklearn\\ensemble\\weight_boosting.py:29: DeprecationWarning: numpy.core.umath_tests is an internal NumPy module and should not be imported. It will be removed in a future NumPy release.\n",
      "  from numpy.core.umath_tests import inner1d\n"
     ]
    }
   ],
   "source": [
    "from sklearn.linear_model import LogisticRegression\n",
    "from sklearn.ensemble import RandomForestClassifier\n",
    "from sklearn.svm import LinearSVC\n",
    "from sklearn.model_selection import cross_val_score\n",
    "models = [\n",
    "    RandomForestClassifier(n_estimators=200, max_depth=3, random_state=0),\n",
    "    LinearSVC(),\n",
    "    MultinomialNB(),\n",
    "    LogisticRegression(random_state=0),\n",
    "]\n",
    "CV = 10\n",
    "cv_df = pd.DataFrame(index=range(CV * len(models)))\n",
    "entries = []\n",
    "for model in models:\n",
    "  model_name = model.__class__.__name__\n",
    "  accuracies = cross_val_score(model, features, labels, scoring='accuracy', cv=CV)\n",
    "  for fold_idx, accuracy in enumerate(accuracies):\n",
    "    entries.append((model_name, fold_idx, accuracy))\n",
    "cv_df = pd.DataFrame(entries, columns=['model_name', 'fold_idx', 'accuracy'])\n",
    "\n"
   ]
  },
  {
   "cell_type": "code",
   "execution_count": 16,
   "metadata": {},
   "outputs": [
    {
     "data": {
      "text/plain": [
       "<matplotlib.axes._subplots.AxesSubplot at 0xba28b70>"
      ]
     },
     "execution_count": 16,
     "metadata": {},
     "output_type": "execute_result"
    },
    {
     "data": {
      "image/png": "[encoded data removed]",
      "text/plain": [
       "<Figure size 432x288 with 1 Axes>"
      ]
     },
     "metadata": {},
     "output_type": "display_data"
    }
   ],
   "source": [
    "sns.boxplot(x='model_name', y='accuracy', data=cv_df)\n",
    "sns.stripplot(x='model_name', y='accuracy', data=cv_df, \n",
    "              size=8, jitter=True, edgecolor=\"gray\", linewidth=2)"
   ]
  },
  {
   "cell_type": "code",
   "execution_count": 17,
   "metadata": {},
   "outputs": [
    {
     "data": {
      "text/plain": [
       "model_name\n",
       "LinearSVC                 0.793099\n",
       "LogisticRegression        0.732591\n",
       "MultinomialNB             0.727790\n",
       "RandomForestClassifier    0.577433\n",
       "Name: accuracy, dtype: float64"
      ]
     },
     "execution_count": 17,
     "metadata": {},
     "output_type": "execute_result"
    }
   ],
   "source": [
    "cv_df.groupby('model_name').accuracy.mean()"
   ]
  },
  {
   "cell_type": "code",
   "execution_count": 18,
   "metadata": {},
   "outputs": [
    {
     "data": {
      "image/png": "[encoded data removed]",
      "text/plain": [
       "<Figure size 936x720 with 2 Axes>"
      ]
     },
     "metadata": {},
     "output_type": "display_data"
    }
   ],
   "source": [
    "model = LinearSVC()\n",
    "X_train, X_test, y_train, y_test, indices_train, indices_test = train_test_split(features, labels, df.index, test_size=0.8, random_state=0)\n",
    "model.fit(X_train, y_train)\n",
    "y_pred = model.predict(X_test)\n",
    "from sklearn.metrics import confusion_matrix\n",
    "conf_mat = confusion_matrix(y_test, y_pred)\n",
    "fig, ax = plt.subplots(figsize=(13,10))\n",
    "sns.heatmap(conf_mat, annot=True, fmt='d',\n",
    "            xticklabels=label_id_df.label.values, yticklabels=label_id_df.label.values)\n",
    "plt.ylabel('Actual')\n",
    "plt.xlabel('Predicted')\n",
    "plt.show()\n"
   ]
  },
  {
   "cell_type": "code",
   "execution_count": 19,
   "metadata": {},
   "outputs": [
    {
     "name": "stdout",
     "output_type": "stream",
     "text": [
      "'asphyxiation' predicted as 'child_maltreatment' : 24 examples.\n"
     ]
    },
    {
     "data": {
      "text/html": [
       "<div>\n",
       "<style scoped>\n",
       "    .dataframe tbody tr th:only-of-type {\n",
       "        vertical-align: middle;\n",
       "    }\n",
       "\n",
       "    .dataframe tbody tr th {\n",
       "        vertical-align: top;\n",
       "    }\n",
       "\n",
       "    .dataframe thead th {\n",
       "        text-align: right;\n",
       "    }\n",
       "</style>\n",
       "<table border=\"1\" class=\"dataframe\">\n",
       "  <thead>\n",
       "    <tr style=\"text-align: right;\">\n",
       "      <th></th>\n",
       "      <th>label</th>\n",
       "      <th>text</th>\n",
       "    </tr>\n",
       "  </thead>\n",
       "  <tbody>\n",
       "    <tr>\n",
       "      <th>1</th>\n",
       "      <td>asphyxiation</td>\n",
       "      <td>FOUND IN ACUTE RESPIRATORY FAILURE AT RESIDENC...</td>\n",
       "    </tr>\n",
       "    <tr>\n",
       "      <th>52</th>\n",
       "      <td>asphyxiation</td>\n",
       "      <td>DEC'D IS A 19 MONTH OLD FEM WHO WAS VOMITING F...</td>\n",
       "    </tr>\n",
       "    <tr>\n",
       "      <th>10</th>\n",
       "      <td>asphyxiation</td>\n",
       "      <td>POSS. SIDS    LAST KNOWN ALIVE AT 0030 HRS   F...</td>\n",
       "    </tr>\n",
       "    <tr>\n",
       "      <th>45</th>\n",
       "      <td>asphyxiation</td>\n",
       "      <td>REPORTEDLY CHOKED ON PAPER TOWEL CHOKED ON PAP...</td>\n",
       "    </tr>\n",
       "    <tr>\n",
       "      <th>4</th>\n",
       "      <td>asphyxiation</td>\n",
       "      <td>DECEDENT WAS LKA BY FATHER WHEN HE FED DECEDEN...</td>\n",
       "    </tr>\n",
       "    <tr>\n",
       "      <th>5</th>\n",
       "      <td>asphyxiation</td>\n",
       "      <td>TRANSPORTED INTO HOSPITAL ER BY PARAMEDICS FRO...</td>\n",
       "    </tr>\n",
       "    <tr>\n",
       "      <th>14</th>\n",
       "      <td>asphyxiation</td>\n",
       "      <td>INFANT LAST FED HERBAL TEA AT ABOUT 2200 HOURS...</td>\n",
       "    </tr>\n",
       "    <tr>\n",
       "      <th>8</th>\n",
       "      <td>asphyxiation</td>\n",
       "      <td>1 1/2 MONTH OLD INFANT TRANSPORTED TO HOSPITAL...</td>\n",
       "    </tr>\n",
       "    <tr>\n",
       "      <th>21</th>\n",
       "      <td>asphyxiation</td>\n",
       "      <td>3 Y/O CHILD WAS SLEEPING WITH HER MOTHER.  MOT...</td>\n",
       "    </tr>\n",
       "    <tr>\n",
       "      <th>49</th>\n",
       "      <td>asphyxiation</td>\n",
       "      <td>4 MONTH OLD BABY WAS TRANS BY DEPUTY TO ER IN ...</td>\n",
       "    </tr>\n",
       "    <tr>\n",
       "      <th>17</th>\n",
       "      <td>asphyxiation</td>\n",
       "      <td>6 MONTH OLD BABY WAS DISCOVER BY PARENT UNRESP...</td>\n",
       "    </tr>\n",
       "    <tr>\n",
       "      <th>33</th>\n",
       "      <td>asphyxiation</td>\n",
       "      <td>OFFICERS RECEIVE CALL OF BABY NOT BREATHING.  ...</td>\n",
       "    </tr>\n",
       "    <tr>\n",
       "      <th>34</th>\n",
       "      <td>asphyxiation</td>\n",
       "      <td>DECEDENT WAS TRANSPORTED INTO HOSPITAL ER BY P...</td>\n",
       "    </tr>\n",
       "    <tr>\n",
       "      <th>46</th>\n",
       "      <td>asphyxiation</td>\n",
       "      <td>THE DECEDENT IS A 1 1/2 YEAR HISPANIC MALE WIT...</td>\n",
       "    </tr>\n",
       "    <tr>\n",
       "      <th>27</th>\n",
       "      <td>asphyxiation</td>\n",
       "      <td>7MO FND UNRESPONSIVE IN CRIB WITH LOTS OF PILL...</td>\n",
       "    </tr>\n",
       "    <tr>\n",
       "      <th>35</th>\n",
       "      <td>asphyxiation</td>\n",
       "      <td>1 Y/O MALE/WHITE WAS TRANSPORTED VIA PARAMEDIC...</td>\n",
       "    </tr>\n",
       "    <tr>\n",
       "      <th>24</th>\n",
       "      <td>asphyxiation</td>\n",
       "      <td>2MONTH OLD BABY WAS FD NOT BREATHING BY MOTHER...</td>\n",
       "    </tr>\n",
       "    <tr>\n",
       "      <th>44</th>\n",
       "      <td>asphyxiation</td>\n",
       "      <td>DECEDENT IS A 5MONTH OLD  MALE.  DIED AT HOSP....</td>\n",
       "    </tr>\n",
       "    <tr>\n",
       "      <th>40</th>\n",
       "      <td>asphyxiation</td>\n",
       "      <td>MULTIPLE TRAUMATIC INJURIES  DECEDENT WAS BROU...</td>\n",
       "    </tr>\n",
       "    <tr>\n",
       "      <th>18</th>\n",
       "      <td>asphyxiation</td>\n",
       "      <td>2 MO. BABY BROUGHT INTO HOSPITAL AFTER MOTHER ...</td>\n",
       "    </tr>\n",
       "    <tr>\n",
       "      <th>19</th>\n",
       "      <td>asphyxiation</td>\n",
       "      <td>DEC'D IS APPROX 30 Y/O AND SUSTAINED HEAD TRAU...</td>\n",
       "    </tr>\n",
       "    <tr>\n",
       "      <th>36</th>\n",
       "      <td>asphyxiation</td>\n",
       "      <td>3 Y/O  WHILE BEING TRANS TO HOSPITAL BY MOTHER...</td>\n",
       "    </tr>\n",
       "    <tr>\n",
       "      <th>50</th>\n",
       "      <td>asphyxiation</td>\n",
       "      <td>DECEDENT WAS TRANSPORTED INTO HOSPITAL ER FROM...</td>\n",
       "    </tr>\n",
       "    <tr>\n",
       "      <th>43</th>\n",
       "      <td>asphyxiation</td>\n",
       "      <td>PD CALLED TO THE SCENE ON CHILD NOT BREATHING ...</td>\n",
       "    </tr>\n",
       "  </tbody>\n",
       "</table>\n",
       "</div>"
      ],
      "text/plain": [
       "           label                                               text\n",
       "1   asphyxiation  FOUND IN ACUTE RESPIRATORY FAILURE AT RESIDENC...\n",
       "52  asphyxiation  DEC'D IS A 19 MONTH OLD FEM WHO WAS VOMITING F...\n",
       "10  asphyxiation  POSS. SIDS    LAST KNOWN ALIVE AT 0030 HRS   F...\n",
       "45  asphyxiation  REPORTEDLY CHOKED ON PAPER TOWEL CHOKED ON PAP...\n",
       "4   asphyxiation  DECEDENT WAS LKA BY FATHER WHEN HE FED DECEDEN...\n",
       "5   asphyxiation  TRANSPORTED INTO HOSPITAL ER BY PARAMEDICS FRO...\n",
       "14  asphyxiation  INFANT LAST FED HERBAL TEA AT ABOUT 2200 HOURS...\n",
       "8   asphyxiation  1 1/2 MONTH OLD INFANT TRANSPORTED TO HOSPITAL...\n",
       "21  asphyxiation  3 Y/O CHILD WAS SLEEPING WITH HER MOTHER.  MOT...\n",
       "49  asphyxiation  4 MONTH OLD BABY WAS TRANS BY DEPUTY TO ER IN ...\n",
       "17  asphyxiation  6 MONTH OLD BABY WAS DISCOVER BY PARENT UNRESP...\n",
       "33  asphyxiation  OFFICERS RECEIVE CALL OF BABY NOT BREATHING.  ...\n",
       "34  asphyxiation  DECEDENT WAS TRANSPORTED INTO HOSPITAL ER BY P...\n",
       "46  asphyxiation  THE DECEDENT IS A 1 1/2 YEAR HISPANIC MALE WIT...\n",
       "27  asphyxiation  7MO FND UNRESPONSIVE IN CRIB WITH LOTS OF PILL...\n",
       "35  asphyxiation  1 Y/O MALE/WHITE WAS TRANSPORTED VIA PARAMEDIC...\n",
       "24  asphyxiation  2MONTH OLD BABY WAS FD NOT BREATHING BY MOTHER...\n",
       "44  asphyxiation  DECEDENT IS A 5MONTH OLD  MALE.  DIED AT HOSP....\n",
       "40  asphyxiation  MULTIPLE TRAUMATIC INJURIES  DECEDENT WAS BROU...\n",
       "18  asphyxiation  2 MO. BABY BROUGHT INTO HOSPITAL AFTER MOTHER ...\n",
       "19  asphyxiation  DEC'D IS APPROX 30 Y/O AND SUSTAINED HEAD TRAU...\n",
       "36  asphyxiation  3 Y/O  WHILE BEING TRANS TO HOSPITAL BY MOTHER...\n",
       "50  asphyxiation  DECEDENT WAS TRANSPORTED INTO HOSPITAL ER FROM...\n",
       "43  asphyxiation  PD CALLED TO THE SCENE ON CHILD NOT BREATHING ..."
      ]
     },
     "metadata": {},
     "output_type": "display_data"
    },
    {
     "name": "stdout",
     "output_type": "stream",
     "text": [
      "\n",
      "'family_violence' predicted as 'child_maltreatment' : 4 examples.\n"
     ]
    },
    {
     "data": {
      "text/html": [
       "<div>\n",
       "<style scoped>\n",
       "    .dataframe tbody tr th:only-of-type {\n",
       "        vertical-align: middle;\n",
       "    }\n",
       "\n",
       "    .dataframe tbody tr th {\n",
       "        vertical-align: top;\n",
       "    }\n",
       "\n",
       "    .dataframe thead th {\n",
       "        text-align: right;\n",
       "    }\n",
       "</style>\n",
       "<table border=\"1\" class=\"dataframe\">\n",
       "  <thead>\n",
       "    <tr style=\"text-align: right;\">\n",
       "      <th></th>\n",
       "      <th>label</th>\n",
       "      <th>text</th>\n",
       "    </tr>\n",
       "  </thead>\n",
       "  <tbody>\n",
       "    <tr>\n",
       "      <th>176</th>\n",
       "      <td>family_violence</td>\n",
       "      <td>APPARENT ASPHYXIATION FROM CHARCOAL BARBECUE. ...</td>\n",
       "    </tr>\n",
       "    <tr>\n",
       "      <th>194</th>\n",
       "      <td>family_violence</td>\n",
       "      <td>REPORTED THAT CHILD SIBLINGS DROPPED BABY IN T...</td>\n",
       "    </tr>\n",
       "    <tr>\n",
       "      <th>191</th>\n",
       "      <td>family_violence</td>\n",
       "      <td>PNEUMONIA CONGESTIVE HEART FAILURE CONGENITAL ...</td>\n",
       "    </tr>\n",
       "    <tr>\n",
       "      <th>188</th>\n",
       "      <td>family_violence</td>\n",
       "      <td>SHARP FORCE TRAUMA TO NECK THE DECEDENT WAS FO...</td>\n",
       "    </tr>\n",
       "  </tbody>\n",
       "</table>\n",
       "</div>"
      ],
      "text/plain": [
       "               label                                               text\n",
       "176  family_violence  APPARENT ASPHYXIATION FROM CHARCOAL BARBECUE. ...\n",
       "194  family_violence  REPORTED THAT CHILD SIBLINGS DROPPED BABY IN T...\n",
       "191  family_violence  PNEUMONIA CONGESTIVE HEART FAILURE CONGENITAL ...\n",
       "188  family_violence  SHARP FORCE TRAUMA TO NECK THE DECEDENT WAS FO..."
      ]
     },
     "metadata": {},
     "output_type": "display_data"
    },
    {
     "name": "stdout",
     "output_type": "stream",
     "text": [
      "\n",
      "'fatal_neglect' predicted as 'child_maltreatment' : 16 examples.\n"
     ]
    },
    {
     "data": {
      "text/html": [
       "<div>\n",
       "<style scoped>\n",
       "    .dataframe tbody tr th:only-of-type {\n",
       "        vertical-align: middle;\n",
       "    }\n",
       "\n",
       "    .dataframe tbody tr th {\n",
       "        vertical-align: top;\n",
       "    }\n",
       "\n",
       "    .dataframe thead th {\n",
       "        text-align: right;\n",
       "    }\n",
       "</style>\n",
       "<table border=\"1\" class=\"dataframe\">\n",
       "  <thead>\n",
       "    <tr style=\"text-align: right;\">\n",
       "      <th></th>\n",
       "      <th>label</th>\n",
       "      <th>text</th>\n",
       "    </tr>\n",
       "  </thead>\n",
       "  <tbody>\n",
       "    <tr>\n",
       "      <th>230</th>\n",
       "      <td>fatal_neglect</td>\n",
       "      <td>DECEDENT  IS  7 WEEK OLD FEMALE    FOUND UNRES...</td>\n",
       "    </tr>\n",
       "    <tr>\n",
       "      <th>223</th>\n",
       "      <td>fatal_neglect</td>\n",
       "      <td>DECEDENT WAS TRANSPORTED BY PARAMEDICS FROM RE...</td>\n",
       "    </tr>\n",
       "    <tr>\n",
       "      <th>199</th>\n",
       "      <td>fatal_neglect</td>\n",
       "      <td>FOUND UNRESPONSIVE IN RESIDENCE BY PD AFTER RE...</td>\n",
       "    </tr>\n",
       "    <tr>\n",
       "      <th>234</th>\n",
       "      <td>fatal_neglect</td>\n",
       "      <td>INFLICTED HEAD TRAUMA AND SEQUELAE. HOSPITAL S...</td>\n",
       "    </tr>\n",
       "    <tr>\n",
       "      <th>200</th>\n",
       "      <td>fatal_neglect</td>\n",
       "      <td>5 MONTH OLD MALE BROUGHT BY PARAMEDICS UNIT#26...</td>\n",
       "    </tr>\n",
       "    <tr>\n",
       "      <th>247</th>\n",
       "      <td>fatal_neglect</td>\n",
       "      <td>NO REPORT OF TRAUMA   BUT INFANT HAS A BRUISE ...</td>\n",
       "    </tr>\n",
       "    <tr>\n",
       "      <th>231</th>\n",
       "      <td>fatal_neglect</td>\n",
       "      <td>HEALING RIB FRACTURES.  SUBDURAL HEMATOMA.  IN...</td>\n",
       "    </tr>\n",
       "    <tr>\n",
       "      <th>225</th>\n",
       "      <td>fatal_neglect</td>\n",
       "      <td>DECEDENT IS A 19 MONTH OLD FEMALE THAT HAD A F...</td>\n",
       "    </tr>\n",
       "    <tr>\n",
       "      <th>229</th>\n",
       "      <td>fatal_neglect</td>\n",
       "      <td>TODDLER REPORTED AS CHOKING ON MILK WHEN IN MO...</td>\n",
       "    </tr>\n",
       "    <tr>\n",
       "      <th>249</th>\n",
       "      <td>fatal_neglect</td>\n",
       "      <td>MOTHER CAME INTO ER AT APPROX 2250 HRS ON 07/1...</td>\n",
       "    </tr>\n",
       "    <tr>\n",
       "      <th>216</th>\n",
       "      <td>fatal_neglect</td>\n",
       "      <td>BABY FOUND THIS MORNING UNRESPONSIVE BY MOTHER...</td>\n",
       "    </tr>\n",
       "    <tr>\n",
       "      <th>236</th>\n",
       "      <td>fatal_neglect</td>\n",
       "      <td>BEDSHARING   MOTHER WOKE TO FIND INFANT UNRESP...</td>\n",
       "    </tr>\n",
       "    <tr>\n",
       "      <th>204</th>\n",
       "      <td>fatal_neglect</td>\n",
       "      <td>03-04-2002.  DECEDENT IS 19 MONTHS OLD    AT D...</td>\n",
       "    </tr>\n",
       "    <tr>\n",
       "      <th>246</th>\n",
       "      <td>fatal_neglect</td>\n",
       "      <td>MULTI BRUISES ABOUT   THE BODY POSS MALNOUTRIT...</td>\n",
       "    </tr>\n",
       "    <tr>\n",
       "      <th>248</th>\n",
       "      <td>fatal_neglect</td>\n",
       "      <td>BABY IS DIRTY AND THIN.  HE HAS SCRATCHES AND ...</td>\n",
       "    </tr>\n",
       "    <tr>\n",
       "      <th>222</th>\n",
       "      <td>fatal_neglect</td>\n",
       "      <td>DECEDENT WAS TRANSPORTED BY PARAMEDICS INTO HO...</td>\n",
       "    </tr>\n",
       "  </tbody>\n",
       "</table>\n",
       "</div>"
      ],
      "text/plain": [
       "             label                                               text\n",
       "230  fatal_neglect  DECEDENT  IS  7 WEEK OLD FEMALE    FOUND UNRES...\n",
       "223  fatal_neglect  DECEDENT WAS TRANSPORTED BY PARAMEDICS FROM RE...\n",
       "199  fatal_neglect  FOUND UNRESPONSIVE IN RESIDENCE BY PD AFTER RE...\n",
       "234  fatal_neglect  INFLICTED HEAD TRAUMA AND SEQUELAE. HOSPITAL S...\n",
       "200  fatal_neglect  5 MONTH OLD MALE BROUGHT BY PARAMEDICS UNIT#26...\n",
       "247  fatal_neglect  NO REPORT OF TRAUMA   BUT INFANT HAS A BRUISE ...\n",
       "231  fatal_neglect  HEALING RIB FRACTURES.  SUBDURAL HEMATOMA.  IN...\n",
       "225  fatal_neglect  DECEDENT IS A 19 MONTH OLD FEMALE THAT HAD A F...\n",
       "229  fatal_neglect  TODDLER REPORTED AS CHOKING ON MILK WHEN IN MO...\n",
       "249  fatal_neglect  MOTHER CAME INTO ER AT APPROX 2250 HRS ON 07/1...\n",
       "216  fatal_neglect  BABY FOUND THIS MORNING UNRESPONSIVE BY MOTHER...\n",
       "236  fatal_neglect  BEDSHARING   MOTHER WOKE TO FIND INFANT UNRESP...\n",
       "204  fatal_neglect  03-04-2002.  DECEDENT IS 19 MONTHS OLD    AT D...\n",
       "246  fatal_neglect  MULTI BRUISES ABOUT   THE BODY POSS MALNOUTRIT...\n",
       "248  fatal_neglect  BABY IS DIRTY AND THIN.  HE HAS SCRATCHES AND ...\n",
       "222  fatal_neglect  DECEDENT WAS TRANSPORTED BY PARAMEDICS INTO HO..."
      ]
     },
     "metadata": {},
     "output_type": "display_data"
    },
    {
     "name": "stdout",
     "output_type": "stream",
     "text": [
      "\n",
      "'homicide' predicted as 'child_maltreatment' : 9 examples.\n"
     ]
    },
    {
     "data": {
      "text/html": [
       "<div>\n",
       "<style scoped>\n",
       "    .dataframe tbody tr th:only-of-type {\n",
       "        vertical-align: middle;\n",
       "    }\n",
       "\n",
       "    .dataframe tbody tr th {\n",
       "        vertical-align: top;\n",
       "    }\n",
       "\n",
       "    .dataframe thead th {\n",
       "        text-align: right;\n",
       "    }\n",
       "</style>\n",
       "<table border=\"1\" class=\"dataframe\">\n",
       "  <thead>\n",
       "    <tr style=\"text-align: right;\">\n",
       "      <th></th>\n",
       "      <th>label</th>\n",
       "      <th>text</th>\n",
       "    </tr>\n",
       "  </thead>\n",
       "  <tbody>\n",
       "    <tr>\n",
       "      <th>311</th>\n",
       "      <td>homicide</td>\n",
       "      <td>MULTIPLE STAB WOUNDS HOMICIDE. DEC'D 1 YEAR OL...</td>\n",
       "    </tr>\n",
       "    <tr>\n",
       "      <th>283</th>\n",
       "      <td>homicide</td>\n",
       "      <td>DECEDENT WAS BEING HELD BY MOTHER IN FRONT OF ...</td>\n",
       "    </tr>\n",
       "    <tr>\n",
       "      <th>307</th>\n",
       "      <td>homicide</td>\n",
       "      <td>MULTIPLE STAB WOUNDS THIS SIX-MONTH OLD INFANT...</td>\n",
       "    </tr>\n",
       "    <tr>\n",
       "      <th>297</th>\n",
       "      <td>homicide</td>\n",
       "      <td>MULTIPLE BLUNT FORCE INJURIES THE MOTHER OF TH...</td>\n",
       "    </tr>\n",
       "    <tr>\n",
       "      <th>310</th>\n",
       "      <td>homicide</td>\n",
       "      <td>MULTIPLE STAB WOUNDS  2 YR OLD WAS STABBED MUL...</td>\n",
       "    </tr>\n",
       "    <tr>\n",
       "      <th>312</th>\n",
       "      <td>homicide</td>\n",
       "      <td>MULITPLE SHARP FORCE INJURIES  DECD WAS AT MOM...</td>\n",
       "    </tr>\n",
       "    <tr>\n",
       "      <th>304</th>\n",
       "      <td>homicide</td>\n",
       "      <td>KNIFE WOUND TO THROAT- SUSPECT IN CUSTODY IN O...</td>\n",
       "    </tr>\n",
       "    <tr>\n",
       "      <th>315</th>\n",
       "      <td>homicide</td>\n",
       "      <td>FELL OFF CLIFF PUSHED VS FALL FROM CLIFFS THE ...</td>\n",
       "    </tr>\n",
       "    <tr>\n",
       "      <th>305</th>\n",
       "      <td>homicide</td>\n",
       "      <td>MULTIPLE STAB WOUNDS ACCORDING TO THE AVAILABL...</td>\n",
       "    </tr>\n",
       "  </tbody>\n",
       "</table>\n",
       "</div>"
      ],
      "text/plain": [
       "        label                                               text\n",
       "311  homicide  MULTIPLE STAB WOUNDS HOMICIDE. DEC'D 1 YEAR OL...\n",
       "283  homicide  DECEDENT WAS BEING HELD BY MOTHER IN FRONT OF ...\n",
       "307  homicide  MULTIPLE STAB WOUNDS THIS SIX-MONTH OLD INFANT...\n",
       "297  homicide  MULTIPLE BLUNT FORCE INJURIES THE MOTHER OF TH...\n",
       "310  homicide  MULTIPLE STAB WOUNDS  2 YR OLD WAS STABBED MUL...\n",
       "312  homicide  MULITPLE SHARP FORCE INJURIES  DECD WAS AT MOM...\n",
       "304  homicide  KNIFE WOUND TO THROAT- SUSPECT IN CUSTODY IN O...\n",
       "315  homicide  FELL OFF CLIFF PUSHED VS FALL FROM CLIFFS THE ...\n",
       "305  homicide  MULTIPLE STAB WOUNDS ACCORDING TO THE AVAILABL..."
      ]
     },
     "metadata": {},
     "output_type": "display_data"
    },
    {
     "name": "stdout",
     "output_type": "stream",
     "text": [
      "\n",
      "'neonaticide' predicted as 'child_maltreatment' : 4 examples.\n"
     ]
    },
    {
     "data": {
      "text/html": [
       "<div>\n",
       "<style scoped>\n",
       "    .dataframe tbody tr th:only-of-type {\n",
       "        vertical-align: middle;\n",
       "    }\n",
       "\n",
       "    .dataframe tbody tr th {\n",
       "        vertical-align: top;\n",
       "    }\n",
       "\n",
       "    .dataframe thead th {\n",
       "        text-align: right;\n",
       "    }\n",
       "</style>\n",
       "<table border=\"1\" class=\"dataframe\">\n",
       "  <thead>\n",
       "    <tr style=\"text-align: right;\">\n",
       "      <th></th>\n",
       "      <th>label</th>\n",
       "      <th>text</th>\n",
       "    </tr>\n",
       "  </thead>\n",
       "  <tbody>\n",
       "    <tr>\n",
       "      <th>331</th>\n",
       "      <td>neonaticide</td>\n",
       "      <td>BODY DUMP   UNK CIRC   BODY APPEARS TO HAVE BE...</td>\n",
       "    </tr>\n",
       "    <tr>\n",
       "      <th>341</th>\n",
       "      <td>neonaticide</td>\n",
       "      <td>FOUND IN ALLEY BY A CONTRACTOR WORKING NEARBY....</td>\n",
       "    </tr>\n",
       "    <tr>\n",
       "      <th>390</th>\n",
       "      <td>neonaticide</td>\n",
       "      <td>4 Y/O MALE WITH C/O ABDOMINAL PAIN AROUND 06:4...</td>\n",
       "    </tr>\n",
       "    <tr>\n",
       "      <th>375</th>\n",
       "      <td>neonaticide</td>\n",
       "      <td>BLUNT FORCE HEAD TRAUMA    PREGNANT FEMALE  WA...</td>\n",
       "    </tr>\n",
       "  </tbody>\n",
       "</table>\n",
       "</div>"
      ],
      "text/plain": [
       "           label                                               text\n",
       "331  neonaticide  BODY DUMP   UNK CIRC   BODY APPEARS TO HAVE BE...\n",
       "341  neonaticide  FOUND IN ALLEY BY A CONTRACTOR WORKING NEARBY....\n",
       "390  neonaticide  4 Y/O MALE WITH C/O ABDOMINAL PAIN AROUND 06:4...\n",
       "375  neonaticide  BLUNT FORCE HEAD TRAUMA    PREGNANT FEMALE  WA..."
      ]
     },
     "metadata": {},
     "output_type": "display_data"
    },
    {
     "name": "stdout",
     "output_type": "stream",
     "text": [
      "\n",
      "'child_maltreatment' predicted as 'asphyxiation' : 2 examples.\n"
     ]
    },
    {
     "data": {
      "text/html": [
       "<div>\n",
       "<style scoped>\n",
       "    .dataframe tbody tr th:only-of-type {\n",
       "        vertical-align: middle;\n",
       "    }\n",
       "\n",
       "    .dataframe tbody tr th {\n",
       "        vertical-align: top;\n",
       "    }\n",
       "\n",
       "    .dataframe thead th {\n",
       "        text-align: right;\n",
       "    }\n",
       "</style>\n",
       "<table border=\"1\" class=\"dataframe\">\n",
       "  <thead>\n",
       "    <tr style=\"text-align: right;\">\n",
       "      <th></th>\n",
       "      <th>label</th>\n",
       "      <th>text</th>\n",
       "    </tr>\n",
       "  </thead>\n",
       "  <tbody>\n",
       "    <tr>\n",
       "      <th>144</th>\n",
       "      <td>child_maltreatment</td>\n",
       "      <td>BLUNT TRAUMA TO THE BODY    DECEDENT IS A 6MO ...</td>\n",
       "    </tr>\n",
       "    <tr>\n",
       "      <th>150</th>\n",
       "      <td>child_maltreatment</td>\n",
       "      <td>BLUNT FORCE HEAD TRAUMA    DECEDENT WAS BROUGH...</td>\n",
       "    </tr>\n",
       "  </tbody>\n",
       "</table>\n",
       "</div>"
      ],
      "text/plain": [
       "                  label                                               text\n",
       "144  child_maltreatment  BLUNT TRAUMA TO THE BODY    DECEDENT IS A 6MO ...\n",
       "150  child_maltreatment  BLUNT FORCE HEAD TRAUMA    DECEDENT WAS BROUGH..."
      ]
     },
     "metadata": {},
     "output_type": "display_data"
    },
    {
     "name": "stdout",
     "output_type": "stream",
     "text": [
      "\n",
      "'family_violence' predicted as 'asphyxiation' : 0 examples.\n"
     ]
    },
    {
     "data": {
      "text/html": [
       "<div>\n",
       "<style scoped>\n",
       "    .dataframe tbody tr th:only-of-type {\n",
       "        vertical-align: middle;\n",
       "    }\n",
       "\n",
       "    .dataframe tbody tr th {\n",
       "        vertical-align: top;\n",
       "    }\n",
       "\n",
       "    .dataframe thead th {\n",
       "        text-align: right;\n",
       "    }\n",
       "</style>\n",
       "<table border=\"1\" class=\"dataframe\">\n",
       "  <thead>\n",
       "    <tr style=\"text-align: right;\">\n",
       "      <th></th>\n",
       "      <th>label</th>\n",
       "      <th>text</th>\n",
       "    </tr>\n",
       "  </thead>\n",
       "  <tbody>\n",
       "  </tbody>\n",
       "</table>\n",
       "</div>"
      ],
      "text/plain": [
       "Empty DataFrame\n",
       "Columns: [label, text]\n",
       "Index: []"
      ]
     },
     "metadata": {},
     "output_type": "display_data"
    },
    {
     "name": "stdout",
     "output_type": "stream",
     "text": [
      "\n",
      "'fatal_neglect' predicted as 'asphyxiation' : 1 examples.\n"
     ]
    },
    {
     "data": {
      "text/html": [
       "<div>\n",
       "<style scoped>\n",
       "    .dataframe tbody tr th:only-of-type {\n",
       "        vertical-align: middle;\n",
       "    }\n",
       "\n",
       "    .dataframe tbody tr th {\n",
       "        vertical-align: top;\n",
       "    }\n",
       "\n",
       "    .dataframe thead th {\n",
       "        text-align: right;\n",
       "    }\n",
       "</style>\n",
       "<table border=\"1\" class=\"dataframe\">\n",
       "  <thead>\n",
       "    <tr style=\"text-align: right;\">\n",
       "      <th></th>\n",
       "      <th>label</th>\n",
       "      <th>text</th>\n",
       "    </tr>\n",
       "  </thead>\n",
       "  <tbody>\n",
       "    <tr>\n",
       "      <th>240</th>\n",
       "      <td>fatal_neglect</td>\n",
       "      <td>ASPHYXIA IMPOSED SUFFOCATION   MOTHER FOUND DE...</td>\n",
       "    </tr>\n",
       "  </tbody>\n",
       "</table>\n",
       "</div>"
      ],
      "text/plain": [
       "             label                                               text\n",
       "240  fatal_neglect  ASPHYXIA IMPOSED SUFFOCATION   MOTHER FOUND DE..."
      ]
     },
     "metadata": {},
     "output_type": "display_data"
    },
    {
     "name": "stdout",
     "output_type": "stream",
     "text": [
      "\n",
      "'homicide' predicted as 'asphyxiation' : 1 examples.\n"
     ]
    },
    {
     "data": {
      "text/html": [
       "<div>\n",
       "<style scoped>\n",
       "    .dataframe tbody tr th:only-of-type {\n",
       "        vertical-align: middle;\n",
       "    }\n",
       "\n",
       "    .dataframe tbody tr th {\n",
       "        vertical-align: top;\n",
       "    }\n",
       "\n",
       "    .dataframe thead th {\n",
       "        text-align: right;\n",
       "    }\n",
       "</style>\n",
       "<table border=\"1\" class=\"dataframe\">\n",
       "  <thead>\n",
       "    <tr style=\"text-align: right;\">\n",
       "      <th></th>\n",
       "      <th>label</th>\n",
       "      <th>text</th>\n",
       "    </tr>\n",
       "  </thead>\n",
       "  <tbody>\n",
       "    <tr>\n",
       "      <th>313</th>\n",
       "      <td>homicide</td>\n",
       "      <td>BLUNT ABDOMINAL TRAUMA    DECEDENT WAS DISCOVE...</td>\n",
       "    </tr>\n",
       "  </tbody>\n",
       "</table>\n",
       "</div>"
      ],
      "text/plain": [
       "        label                                               text\n",
       "313  homicide  BLUNT ABDOMINAL TRAUMA    DECEDENT WAS DISCOVE..."
      ]
     },
     "metadata": {},
     "output_type": "display_data"
    },
    {
     "name": "stdout",
     "output_type": "stream",
     "text": [
      "\n",
      "'neonaticide' predicted as 'asphyxiation' : 1 examples.\n"
     ]
    },
    {
     "data": {
      "text/html": [
       "<div>\n",
       "<style scoped>\n",
       "    .dataframe tbody tr th:only-of-type {\n",
       "        vertical-align: middle;\n",
       "    }\n",
       "\n",
       "    .dataframe tbody tr th {\n",
       "        vertical-align: top;\n",
       "    }\n",
       "\n",
       "    .dataframe thead th {\n",
       "        text-align: right;\n",
       "    }\n",
       "</style>\n",
       "<table border=\"1\" class=\"dataframe\">\n",
       "  <thead>\n",
       "    <tr style=\"text-align: right;\">\n",
       "      <th></th>\n",
       "      <th>label</th>\n",
       "      <th>text</th>\n",
       "    </tr>\n",
       "  </thead>\n",
       "  <tbody>\n",
       "    <tr>\n",
       "      <th>364</th>\n",
       "      <td>neonaticide</td>\n",
       "      <td>24 WEEK OLD FETUS WHO WAS STILL BORN AFTER THE...</td>\n",
       "    </tr>\n",
       "  </tbody>\n",
       "</table>\n",
       "</div>"
      ],
      "text/plain": [
       "           label                                               text\n",
       "364  neonaticide  24 WEEK OLD FETUS WHO WAS STILL BORN AFTER THE..."
      ]
     },
     "metadata": {},
     "output_type": "display_data"
    },
    {
     "name": "stdout",
     "output_type": "stream",
     "text": [
      "\n",
      "'child_maltreatment' predicted as 'family_violence' : 0 examples.\n"
     ]
    },
    {
     "data": {
      "text/html": [
       "<div>\n",
       "<style scoped>\n",
       "    .dataframe tbody tr th:only-of-type {\n",
       "        vertical-align: middle;\n",
       "    }\n",
       "\n",
       "    .dataframe tbody tr th {\n",
       "        vertical-align: top;\n",
       "    }\n",
       "\n",
       "    .dataframe thead th {\n",
       "        text-align: right;\n",
       "    }\n",
       "</style>\n",
       "<table border=\"1\" class=\"dataframe\">\n",
       "  <thead>\n",
       "    <tr style=\"text-align: right;\">\n",
       "      <th></th>\n",
       "      <th>label</th>\n",
       "      <th>text</th>\n",
       "    </tr>\n",
       "  </thead>\n",
       "  <tbody>\n",
       "  </tbody>\n",
       "</table>\n",
       "</div>"
      ],
      "text/plain": [
       "Empty DataFrame\n",
       "Columns: [label, text]\n",
       "Index: []"
      ]
     },
     "metadata": {},
     "output_type": "display_data"
    },
    {
     "name": "stdout",
     "output_type": "stream",
     "text": [
      "\n",
      "'asphyxiation' predicted as 'family_violence' : 0 examples.\n"
     ]
    },
    {
     "data": {
      "text/html": [
       "<div>\n",
       "<style scoped>\n",
       "    .dataframe tbody tr th:only-of-type {\n",
       "        vertical-align: middle;\n",
       "    }\n",
       "\n",
       "    .dataframe tbody tr th {\n",
       "        vertical-align: top;\n",
       "    }\n",
       "\n",
       "    .dataframe thead th {\n",
       "        text-align: right;\n",
       "    }\n",
       "</style>\n",
       "<table border=\"1\" class=\"dataframe\">\n",
       "  <thead>\n",
       "    <tr style=\"text-align: right;\">\n",
       "      <th></th>\n",
       "      <th>label</th>\n",
       "      <th>text</th>\n",
       "    </tr>\n",
       "  </thead>\n",
       "  <tbody>\n",
       "  </tbody>\n",
       "</table>\n",
       "</div>"
      ],
      "text/plain": [
       "Empty DataFrame\n",
       "Columns: [label, text]\n",
       "Index: []"
      ]
     },
     "metadata": {},
     "output_type": "display_data"
    },
    {
     "name": "stdout",
     "output_type": "stream",
     "text": [
      "\n",
      "'fatal_neglect' predicted as 'family_violence' : 0 examples.\n"
     ]
    },
    {
     "data": {
      "text/html": [
       "<div>\n",
       "<style scoped>\n",
       "    .dataframe tbody tr th:only-of-type {\n",
       "        vertical-align: middle;\n",
       "    }\n",
       "\n",
       "    .dataframe tbody tr th {\n",
       "        vertical-align: top;\n",
       "    }\n",
       "\n",
       "    .dataframe thead th {\n",
       "        text-align: right;\n",
       "    }\n",
       "</style>\n",
       "<table border=\"1\" class=\"dataframe\">\n",
       "  <thead>\n",
       "    <tr style=\"text-align: right;\">\n",
       "      <th></th>\n",
       "      <th>label</th>\n",
       "      <th>text</th>\n",
       "    </tr>\n",
       "  </thead>\n",
       "  <tbody>\n",
       "  </tbody>\n",
       "</table>\n",
       "</div>"
      ],
      "text/plain": [
       "Empty DataFrame\n",
       "Columns: [label, text]\n",
       "Index: []"
      ]
     },
     "metadata": {},
     "output_type": "display_data"
    },
    {
     "name": "stdout",
     "output_type": "stream",
     "text": [
      "\n",
      "'homicide' predicted as 'family_violence' : 0 examples.\n"
     ]
    },
    {
     "data": {
      "text/html": [
       "<div>\n",
       "<style scoped>\n",
       "    .dataframe tbody tr th:only-of-type {\n",
       "        vertical-align: middle;\n",
       "    }\n",
       "\n",
       "    .dataframe tbody tr th {\n",
       "        vertical-align: top;\n",
       "    }\n",
       "\n",
       "    .dataframe thead th {\n",
       "        text-align: right;\n",
       "    }\n",
       "</style>\n",
       "<table border=\"1\" class=\"dataframe\">\n",
       "  <thead>\n",
       "    <tr style=\"text-align: right;\">\n",
       "      <th></th>\n",
       "      <th>label</th>\n",
       "      <th>text</th>\n",
       "    </tr>\n",
       "  </thead>\n",
       "  <tbody>\n",
       "  </tbody>\n",
       "</table>\n",
       "</div>"
      ],
      "text/plain": [
       "Empty DataFrame\n",
       "Columns: [label, text]\n",
       "Index: []"
      ]
     },
     "metadata": {},
     "output_type": "display_data"
    },
    {
     "name": "stdout",
     "output_type": "stream",
     "text": [
      "\n",
      "'neonaticide' predicted as 'family_violence' : 0 examples.\n"
     ]
    },
    {
     "data": {
      "text/html": [
       "<div>\n",
       "<style scoped>\n",
       "    .dataframe tbody tr th:only-of-type {\n",
       "        vertical-align: middle;\n",
       "    }\n",
       "\n",
       "    .dataframe tbody tr th {\n",
       "        vertical-align: top;\n",
       "    }\n",
       "\n",
       "    .dataframe thead th {\n",
       "        text-align: right;\n",
       "    }\n",
       "</style>\n",
       "<table border=\"1\" class=\"dataframe\">\n",
       "  <thead>\n",
       "    <tr style=\"text-align: right;\">\n",
       "      <th></th>\n",
       "      <th>label</th>\n",
       "      <th>text</th>\n",
       "    </tr>\n",
       "  </thead>\n",
       "  <tbody>\n",
       "  </tbody>\n",
       "</table>\n",
       "</div>"
      ],
      "text/plain": [
       "Empty DataFrame\n",
       "Columns: [label, text]\n",
       "Index: []"
      ]
     },
     "metadata": {},
     "output_type": "display_data"
    },
    {
     "name": "stdout",
     "output_type": "stream",
     "text": [
      "\n",
      "'child_maltreatment' predicted as 'fatal_neglect' : 0 examples.\n"
     ]
    },
    {
     "data": {
      "text/html": [
       "<div>\n",
       "<style scoped>\n",
       "    .dataframe tbody tr th:only-of-type {\n",
       "        vertical-align: middle;\n",
       "    }\n",
       "\n",
       "    .dataframe tbody tr th {\n",
       "        vertical-align: top;\n",
       "    }\n",
       "\n",
       "    .dataframe thead th {\n",
       "        text-align: right;\n",
       "    }\n",
       "</style>\n",
       "<table border=\"1\" class=\"dataframe\">\n",
       "  <thead>\n",
       "    <tr style=\"text-align: right;\">\n",
       "      <th></th>\n",
       "      <th>label</th>\n",
       "      <th>text</th>\n",
       "    </tr>\n",
       "  </thead>\n",
       "  <tbody>\n",
       "  </tbody>\n",
       "</table>\n",
       "</div>"
      ],
      "text/plain": [
       "Empty DataFrame\n",
       "Columns: [label, text]\n",
       "Index: []"
      ]
     },
     "metadata": {},
     "output_type": "display_data"
    },
    {
     "name": "stdout",
     "output_type": "stream",
     "text": [
      "\n",
      "'asphyxiation' predicted as 'fatal_neglect' : 1 examples.\n"
     ]
    },
    {
     "data": {
      "text/html": [
       "<div>\n",
       "<style scoped>\n",
       "    .dataframe tbody tr th:only-of-type {\n",
       "        vertical-align: middle;\n",
       "    }\n",
       "\n",
       "    .dataframe tbody tr th {\n",
       "        vertical-align: top;\n",
       "    }\n",
       "\n",
       "    .dataframe thead th {\n",
       "        text-align: right;\n",
       "    }\n",
       "</style>\n",
       "<table border=\"1\" class=\"dataframe\">\n",
       "  <thead>\n",
       "    <tr style=\"text-align: right;\">\n",
       "      <th></th>\n",
       "      <th>label</th>\n",
       "      <th>text</th>\n",
       "    </tr>\n",
       "  </thead>\n",
       "  <tbody>\n",
       "    <tr>\n",
       "      <th>51</th>\n",
       "      <td>asphyxiation</td>\n",
       "      <td>SUFFOCATION.   THE DECEDENT HAD NO KNOWN MEDIC...</td>\n",
       "    </tr>\n",
       "  </tbody>\n",
       "</table>\n",
       "</div>"
      ],
      "text/plain": [
       "           label                                               text\n",
       "51  asphyxiation  SUFFOCATION.   THE DECEDENT HAD NO KNOWN MEDIC..."
      ]
     },
     "metadata": {},
     "output_type": "display_data"
    },
    {
     "name": "stdout",
     "output_type": "stream",
     "text": [
      "\n",
      "'family_violence' predicted as 'fatal_neglect' : 3 examples.\n"
     ]
    },
    {
     "data": {
      "text/html": [
       "<div>\n",
       "<style scoped>\n",
       "    .dataframe tbody tr th:only-of-type {\n",
       "        vertical-align: middle;\n",
       "    }\n",
       "\n",
       "    .dataframe tbody tr th {\n",
       "        vertical-align: top;\n",
       "    }\n",
       "\n",
       "    .dataframe thead th {\n",
       "        text-align: right;\n",
       "    }\n",
       "</style>\n",
       "<table border=\"1\" class=\"dataframe\">\n",
       "  <thead>\n",
       "    <tr style=\"text-align: right;\">\n",
       "      <th></th>\n",
       "      <th>label</th>\n",
       "      <th>text</th>\n",
       "    </tr>\n",
       "  </thead>\n",
       "  <tbody>\n",
       "    <tr>\n",
       "      <th>190</th>\n",
       "      <td>family_violence</td>\n",
       "      <td>AUTO VS SEMI TRUCK SEE RELATED CASE #2014-0827...</td>\n",
       "    </tr>\n",
       "    <tr>\n",
       "      <th>181</th>\n",
       "      <td>family_violence</td>\n",
       "      <td>VEH VS VEH T-BONE ACCIDENT.  TWO CHILDREN / TW...</td>\n",
       "    </tr>\n",
       "    <tr>\n",
       "      <th>182</th>\n",
       "      <td>family_violence</td>\n",
       "      <td>VEH VS VEH T-BONE ACCIDENT COMPANION TO CC# 07...</td>\n",
       "    </tr>\n",
       "  </tbody>\n",
       "</table>\n",
       "</div>"
      ],
      "text/plain": [
       "               label                                               text\n",
       "190  family_violence  AUTO VS SEMI TRUCK SEE RELATED CASE #2014-0827...\n",
       "181  family_violence  VEH VS VEH T-BONE ACCIDENT.  TWO CHILDREN / TW...\n",
       "182  family_violence  VEH VS VEH T-BONE ACCIDENT COMPANION TO CC# 07..."
      ]
     },
     "metadata": {},
     "output_type": "display_data"
    },
    {
     "name": "stdout",
     "output_type": "stream",
     "text": [
      "\n",
      "'homicide' predicted as 'fatal_neglect' : 0 examples.\n"
     ]
    },
    {
     "data": {
      "text/html": [
       "<div>\n",
       "<style scoped>\n",
       "    .dataframe tbody tr th:only-of-type {\n",
       "        vertical-align: middle;\n",
       "    }\n",
       "\n",
       "    .dataframe tbody tr th {\n",
       "        vertical-align: top;\n",
       "    }\n",
       "\n",
       "    .dataframe thead th {\n",
       "        text-align: right;\n",
       "    }\n",
       "</style>\n",
       "<table border=\"1\" class=\"dataframe\">\n",
       "  <thead>\n",
       "    <tr style=\"text-align: right;\">\n",
       "      <th></th>\n",
       "      <th>label</th>\n",
       "      <th>text</th>\n",
       "    </tr>\n",
       "  </thead>\n",
       "  <tbody>\n",
       "  </tbody>\n",
       "</table>\n",
       "</div>"
      ],
      "text/plain": [
       "Empty DataFrame\n",
       "Columns: [label, text]\n",
       "Index: []"
      ]
     },
     "metadata": {},
     "output_type": "display_data"
    },
    {
     "name": "stdout",
     "output_type": "stream",
     "text": [
      "\n",
      "'neonaticide' predicted as 'fatal_neglect' : 1 examples.\n"
     ]
    },
    {
     "data": {
      "text/html": [
       "<div>\n",
       "<style scoped>\n",
       "    .dataframe tbody tr th:only-of-type {\n",
       "        vertical-align: middle;\n",
       "    }\n",
       "\n",
       "    .dataframe tbody tr th {\n",
       "        vertical-align: top;\n",
       "    }\n",
       "\n",
       "    .dataframe thead th {\n",
       "        text-align: right;\n",
       "    }\n",
       "</style>\n",
       "<table border=\"1\" class=\"dataframe\">\n",
       "  <thead>\n",
       "    <tr style=\"text-align: right;\">\n",
       "      <th></th>\n",
       "      <th>label</th>\n",
       "      <th>text</th>\n",
       "    </tr>\n",
       "  </thead>\n",
       "  <tbody>\n",
       "    <tr>\n",
       "      <th>393</th>\n",
       "      <td>neonaticide</td>\n",
       "      <td>BLUNT TRAUMA    3MONTH OLD BABY WAS REPORTED K...</td>\n",
       "    </tr>\n",
       "  </tbody>\n",
       "</table>\n",
       "</div>"
      ],
      "text/plain": [
       "           label                                               text\n",
       "393  neonaticide  BLUNT TRAUMA    3MONTH OLD BABY WAS REPORTED K..."
      ]
     },
     "metadata": {},
     "output_type": "display_data"
    },
    {
     "name": "stdout",
     "output_type": "stream",
     "text": [
      "\n",
      "'child_maltreatment' predicted as 'homicide' : 2 examples.\n"
     ]
    },
    {
     "data": {
      "text/html": [
       "<div>\n",
       "<style scoped>\n",
       "    .dataframe tbody tr th:only-of-type {\n",
       "        vertical-align: middle;\n",
       "    }\n",
       "\n",
       "    .dataframe tbody tr th {\n",
       "        vertical-align: top;\n",
       "    }\n",
       "\n",
       "    .dataframe thead th {\n",
       "        text-align: right;\n",
       "    }\n",
       "</style>\n",
       "<table border=\"1\" class=\"dataframe\">\n",
       "  <thead>\n",
       "    <tr style=\"text-align: right;\">\n",
       "      <th></th>\n",
       "      <th>label</th>\n",
       "      <th>text</th>\n",
       "    </tr>\n",
       "  </thead>\n",
       "  <tbody>\n",
       "    <tr>\n",
       "      <th>155</th>\n",
       "      <td>child_maltreatment</td>\n",
       "      <td>BEATING   NO SUSPECT IN CUSTODY. MULTIPLE BLUN...</td>\n",
       "    </tr>\n",
       "    <tr>\n",
       "      <th>156</th>\n",
       "      <td>child_maltreatment</td>\n",
       "      <td>02-05-2002.  DECEDENT IS 2 YRS OLD.  TRANS TO ...</td>\n",
       "    </tr>\n",
       "  </tbody>\n",
       "</table>\n",
       "</div>"
      ],
      "text/plain": [
       "                  label                                               text\n",
       "155  child_maltreatment  BEATING   NO SUSPECT IN CUSTODY. MULTIPLE BLUN...\n",
       "156  child_maltreatment  02-05-2002.  DECEDENT IS 2 YRS OLD.  TRANS TO ..."
      ]
     },
     "metadata": {},
     "output_type": "display_data"
    },
    {
     "name": "stdout",
     "output_type": "stream",
     "text": [
      "\n",
      "'asphyxiation' predicted as 'homicide' : 0 examples.\n"
     ]
    },
    {
     "data": {
      "text/html": [
       "<div>\n",
       "<style scoped>\n",
       "    .dataframe tbody tr th:only-of-type {\n",
       "        vertical-align: middle;\n",
       "    }\n",
       "\n",
       "    .dataframe tbody tr th {\n",
       "        vertical-align: top;\n",
       "    }\n",
       "\n",
       "    .dataframe thead th {\n",
       "        text-align: right;\n",
       "    }\n",
       "</style>\n",
       "<table border=\"1\" class=\"dataframe\">\n",
       "  <thead>\n",
       "    <tr style=\"text-align: right;\">\n",
       "      <th></th>\n",
       "      <th>label</th>\n",
       "      <th>text</th>\n",
       "    </tr>\n",
       "  </thead>\n",
       "  <tbody>\n",
       "  </tbody>\n",
       "</table>\n",
       "</div>"
      ],
      "text/plain": [
       "Empty DataFrame\n",
       "Columns: [label, text]\n",
       "Index: []"
      ]
     },
     "metadata": {},
     "output_type": "display_data"
    },
    {
     "name": "stdout",
     "output_type": "stream",
     "text": [
      "\n",
      "'family_violence' predicted as 'homicide' : 0 examples.\n"
     ]
    },
    {
     "data": {
      "text/html": [
       "<div>\n",
       "<style scoped>\n",
       "    .dataframe tbody tr th:only-of-type {\n",
       "        vertical-align: middle;\n",
       "    }\n",
       "\n",
       "    .dataframe tbody tr th {\n",
       "        vertical-align: top;\n",
       "    }\n",
       "\n",
       "    .dataframe thead th {\n",
       "        text-align: right;\n",
       "    }\n",
       "</style>\n",
       "<table border=\"1\" class=\"dataframe\">\n",
       "  <thead>\n",
       "    <tr style=\"text-align: right;\">\n",
       "      <th></th>\n",
       "      <th>label</th>\n",
       "      <th>text</th>\n",
       "    </tr>\n",
       "  </thead>\n",
       "  <tbody>\n",
       "  </tbody>\n",
       "</table>\n",
       "</div>"
      ],
      "text/plain": [
       "Empty DataFrame\n",
       "Columns: [label, text]\n",
       "Index: []"
      ]
     },
     "metadata": {},
     "output_type": "display_data"
    },
    {
     "name": "stdout",
     "output_type": "stream",
     "text": [
      "\n",
      "'fatal_neglect' predicted as 'homicide' : 0 examples.\n"
     ]
    },
    {
     "data": {
      "text/html": [
       "<div>\n",
       "<style scoped>\n",
       "    .dataframe tbody tr th:only-of-type {\n",
       "        vertical-align: middle;\n",
       "    }\n",
       "\n",
       "    .dataframe tbody tr th {\n",
       "        vertical-align: top;\n",
       "    }\n",
       "\n",
       "    .dataframe thead th {\n",
       "        text-align: right;\n",
       "    }\n",
       "</style>\n",
       "<table border=\"1\" class=\"dataframe\">\n",
       "  <thead>\n",
       "    <tr style=\"text-align: right;\">\n",
       "      <th></th>\n",
       "      <th>label</th>\n",
       "      <th>text</th>\n",
       "    </tr>\n",
       "  </thead>\n",
       "  <tbody>\n",
       "  </tbody>\n",
       "</table>\n",
       "</div>"
      ],
      "text/plain": [
       "Empty DataFrame\n",
       "Columns: [label, text]\n",
       "Index: []"
      ]
     },
     "metadata": {},
     "output_type": "display_data"
    },
    {
     "name": "stdout",
     "output_type": "stream",
     "text": [
      "\n",
      "'neonaticide' predicted as 'homicide' : 5 examples.\n"
     ]
    },
    {
     "data": {
      "text/html": [
       "<div>\n",
       "<style scoped>\n",
       "    .dataframe tbody tr th:only-of-type {\n",
       "        vertical-align: middle;\n",
       "    }\n",
       "\n",
       "    .dataframe tbody tr th {\n",
       "        vertical-align: top;\n",
       "    }\n",
       "\n",
       "    .dataframe thead th {\n",
       "        text-align: right;\n",
       "    }\n",
       "</style>\n",
       "<table border=\"1\" class=\"dataframe\">\n",
       "  <thead>\n",
       "    <tr style=\"text-align: right;\">\n",
       "      <th></th>\n",
       "      <th>label</th>\n",
       "      <th>text</th>\n",
       "    </tr>\n",
       "  </thead>\n",
       "  <tbody>\n",
       "    <tr>\n",
       "      <th>396</th>\n",
       "      <td>neonaticide</td>\n",
       "      <td>DEC IS A FETUS 28-WEEK GESTATION THAT WAS BORN...</td>\n",
       "    </tr>\n",
       "    <tr>\n",
       "      <th>357</th>\n",
       "      <td>neonaticide</td>\n",
       "      <td>FETUS FOUND AT TIME OF . SEE-2005-06433. (ANAY...</td>\n",
       "    </tr>\n",
       "    <tr>\n",
       "      <th>374</th>\n",
       "      <td>neonaticide</td>\n",
       "      <td>DECEDENT WAS DELIVERED BY C-SECTION AT HOSPITA...</td>\n",
       "    </tr>\n",
       "    <tr>\n",
       "      <th>371</th>\n",
       "      <td>neonaticide</td>\n",
       "      <td>FETUS FND BY DR SCHOLTZ DURING EXAM.  SEE CC#2...</td>\n",
       "    </tr>\n",
       "    <tr>\n",
       "      <th>317</th>\n",
       "      <td>neonaticide</td>\n",
       "      <td>FETUS FD DURING  OF FEMALE HOMICIDE VICTIM(SEE...</td>\n",
       "    </tr>\n",
       "  </tbody>\n",
       "</table>\n",
       "</div>"
      ],
      "text/plain": [
       "           label                                               text\n",
       "396  neonaticide  DEC IS A FETUS 28-WEEK GESTATION THAT WAS BORN...\n",
       "357  neonaticide  FETUS FOUND AT TIME OF . SEE-2005-06433. (ANAY...\n",
       "374  neonaticide  DECEDENT WAS DELIVERED BY C-SECTION AT HOSPITA...\n",
       "371  neonaticide  FETUS FND BY DR SCHOLTZ DURING EXAM.  SEE CC#2...\n",
       "317  neonaticide  FETUS FD DURING  OF FEMALE HOMICIDE VICTIM(SEE..."
      ]
     },
     "metadata": {},
     "output_type": "display_data"
    },
    {
     "name": "stdout",
     "output_type": "stream",
     "text": [
      "\n",
      "'child_maltreatment' predicted as 'neonaticide' : 0 examples.\n"
     ]
    },
    {
     "data": {
      "text/html": [
       "<div>\n",
       "<style scoped>\n",
       "    .dataframe tbody tr th:only-of-type {\n",
       "        vertical-align: middle;\n",
       "    }\n",
       "\n",
       "    .dataframe tbody tr th {\n",
       "        vertical-align: top;\n",
       "    }\n",
       "\n",
       "    .dataframe thead th {\n",
       "        text-align: right;\n",
       "    }\n",
       "</style>\n",
       "<table border=\"1\" class=\"dataframe\">\n",
       "  <thead>\n",
       "    <tr style=\"text-align: right;\">\n",
       "      <th></th>\n",
       "      <th>label</th>\n",
       "      <th>text</th>\n",
       "    </tr>\n",
       "  </thead>\n",
       "  <tbody>\n",
       "  </tbody>\n",
       "</table>\n",
       "</div>"
      ],
      "text/plain": [
       "Empty DataFrame\n",
       "Columns: [label, text]\n",
       "Index: []"
      ]
     },
     "metadata": {},
     "output_type": "display_data"
    },
    {
     "name": "stdout",
     "output_type": "stream",
     "text": [
      "\n",
      "'asphyxiation' predicted as 'neonaticide' : 3 examples.\n"
     ]
    },
    {
     "data": {
      "text/html": [
       "<div>\n",
       "<style scoped>\n",
       "    .dataframe tbody tr th:only-of-type {\n",
       "        vertical-align: middle;\n",
       "    }\n",
       "\n",
       "    .dataframe tbody tr th {\n",
       "        vertical-align: top;\n",
       "    }\n",
       "\n",
       "    .dataframe thead th {\n",
       "        text-align: right;\n",
       "    }\n",
       "</style>\n",
       "<table border=\"1\" class=\"dataframe\">\n",
       "  <thead>\n",
       "    <tr style=\"text-align: right;\">\n",
       "      <th></th>\n",
       "      <th>label</th>\n",
       "      <th>text</th>\n",
       "    </tr>\n",
       "  </thead>\n",
       "  <tbody>\n",
       "    <tr>\n",
       "      <th>22</th>\n",
       "      <td>asphyxiation</td>\n",
       "      <td>DECEDENT IS AN APPARENT FULL TERM CHILD DISCOV...</td>\n",
       "    </tr>\n",
       "    <tr>\n",
       "      <th>23</th>\n",
       "      <td>asphyxiation</td>\n",
       "      <td>DECEDENT WAS DISCOVERED UNRESPONSIVE AT RESIDE...</td>\n",
       "    </tr>\n",
       "    <tr>\n",
       "      <th>48</th>\n",
       "      <td>asphyxiation</td>\n",
       "      <td>MOTHER REPORTED TODDLER CHOKED ON A PLASTIC BA...</td>\n",
       "    </tr>\n",
       "  </tbody>\n",
       "</table>\n",
       "</div>"
      ],
      "text/plain": [
       "           label                                               text\n",
       "22  asphyxiation  DECEDENT IS AN APPARENT FULL TERM CHILD DISCOV...\n",
       "23  asphyxiation  DECEDENT WAS DISCOVERED UNRESPONSIVE AT RESIDE...\n",
       "48  asphyxiation  MOTHER REPORTED TODDLER CHOKED ON A PLASTIC BA..."
      ]
     },
     "metadata": {},
     "output_type": "display_data"
    },
    {
     "name": "stdout",
     "output_type": "stream",
     "text": [
      "\n",
      "'family_violence' predicted as 'neonaticide' : 5 examples.\n"
     ]
    },
    {
     "data": {
      "text/html": [
       "<div>\n",
       "<style scoped>\n",
       "    .dataframe tbody tr th:only-of-type {\n",
       "        vertical-align: middle;\n",
       "    }\n",
       "\n",
       "    .dataframe tbody tr th {\n",
       "        vertical-align: top;\n",
       "    }\n",
       "\n",
       "    .dataframe thead th {\n",
       "        text-align: right;\n",
       "    }\n",
       "</style>\n",
       "<table border=\"1\" class=\"dataframe\">\n",
       "  <thead>\n",
       "    <tr style=\"text-align: right;\">\n",
       "      <th></th>\n",
       "      <th>label</th>\n",
       "      <th>text</th>\n",
       "    </tr>\n",
       "  </thead>\n",
       "  <tbody>\n",
       "    <tr>\n",
       "      <th>175</th>\n",
       "      <td>family_violence</td>\n",
       "      <td>APPARENT ASPHYXIATION FROM CHARCOAL BARBECUE. ...</td>\n",
       "    </tr>\n",
       "    <tr>\n",
       "      <th>29</th>\n",
       "      <td>family_violence</td>\n",
       "      <td>ON 07/04/2013 MOTHER OF DECEDENT WAS INVOLVED ...</td>\n",
       "    </tr>\n",
       "    <tr>\n",
       "      <th>189</th>\n",
       "      <td>family_violence</td>\n",
       "      <td>MULTIPLE TRAUMA ACCORDING TO THE REPORTED INFO...</td>\n",
       "    </tr>\n",
       "    <tr>\n",
       "      <th>178</th>\n",
       "      <td>family_violence</td>\n",
       "      <td>BABY FD WHILE PERFORMING .  CC#00652 FETAL DEM...</td>\n",
       "    </tr>\n",
       "    <tr>\n",
       "      <th>180</th>\n",
       "      <td>family_violence</td>\n",
       "      <td>DECEDENT'S THROAT SLASHED BY FATHER USING BUTC...</td>\n",
       "    </tr>\n",
       "  </tbody>\n",
       "</table>\n",
       "</div>"
      ],
      "text/plain": [
       "               label                                               text\n",
       "175  family_violence  APPARENT ASPHYXIATION FROM CHARCOAL BARBECUE. ...\n",
       "29   family_violence  ON 07/04/2013 MOTHER OF DECEDENT WAS INVOLVED ...\n",
       "189  family_violence  MULTIPLE TRAUMA ACCORDING TO THE REPORTED INFO...\n",
       "178  family_violence  BABY FD WHILE PERFORMING .  CC#00652 FETAL DEM...\n",
       "180  family_violence  DECEDENT'S THROAT SLASHED BY FATHER USING BUTC..."
      ]
     },
     "metadata": {},
     "output_type": "display_data"
    },
    {
     "name": "stdout",
     "output_type": "stream",
     "text": [
      "\n",
      "'fatal_neglect' predicted as 'neonaticide' : 6 examples.\n"
     ]
    },
    {
     "data": {
      "text/html": [
       "<div>\n",
       "<style scoped>\n",
       "    .dataframe tbody tr th:only-of-type {\n",
       "        vertical-align: middle;\n",
       "    }\n",
       "\n",
       "    .dataframe tbody tr th {\n",
       "        vertical-align: top;\n",
       "    }\n",
       "\n",
       "    .dataframe thead th {\n",
       "        text-align: right;\n",
       "    }\n",
       "</style>\n",
       "<table border=\"1\" class=\"dataframe\">\n",
       "  <thead>\n",
       "    <tr style=\"text-align: right;\">\n",
       "      <th></th>\n",
       "      <th>label</th>\n",
       "      <th>text</th>\n",
       "    </tr>\n",
       "  </thead>\n",
       "  <tbody>\n",
       "    <tr>\n",
       "      <th>241</th>\n",
       "      <td>fatal_neglect</td>\n",
       "      <td>ACCORDING TO THE REPORTED INFORMATION   THE ...</td>\n",
       "    </tr>\n",
       "    <tr>\n",
       "      <th>250</th>\n",
       "      <td>fatal_neglect</td>\n",
       "      <td>6 MONTH OLD IN THE BACK OF AN AMBULANCE UNDETE...</td>\n",
       "    </tr>\n",
       "    <tr>\n",
       "      <th>235</th>\n",
       "      <td>fatal_neglect</td>\n",
       "      <td>STARVATION   UNSAFE SLEEP AREA THE DECEDENT WA...</td>\n",
       "    </tr>\n",
       "    <tr>\n",
       "      <th>214</th>\n",
       "      <td>fatal_neglect</td>\n",
       "      <td>8 MONTH YEAR OLD FEMALE  POSSIBLE STARVATION O...</td>\n",
       "    </tr>\n",
       "    <tr>\n",
       "      <th>226</th>\n",
       "      <td>fatal_neglect</td>\n",
       "      <td>DECEDENT WAS TRANSPORTED INTO HOSPITAL WITH HE...</td>\n",
       "    </tr>\n",
       "    <tr>\n",
       "      <th>201</th>\n",
       "      <td>fatal_neglect</td>\n",
       "      <td>DECEDENT WAS DELIVERED AT HOME BY NATURAL CHIL...</td>\n",
       "    </tr>\n",
       "  </tbody>\n",
       "</table>\n",
       "</div>"
      ],
      "text/plain": [
       "             label                                               text\n",
       "241  fatal_neglect    ACCORDING TO THE REPORTED INFORMATION   THE ...\n",
       "250  fatal_neglect  6 MONTH OLD IN THE BACK OF AN AMBULANCE UNDETE...\n",
       "235  fatal_neglect  STARVATION   UNSAFE SLEEP AREA THE DECEDENT WA...\n",
       "214  fatal_neglect  8 MONTH YEAR OLD FEMALE  POSSIBLE STARVATION O...\n",
       "226  fatal_neglect  DECEDENT WAS TRANSPORTED INTO HOSPITAL WITH HE...\n",
       "201  fatal_neglect  DECEDENT WAS DELIVERED AT HOME BY NATURAL CHIL..."
      ]
     },
     "metadata": {},
     "output_type": "display_data"
    },
    {
     "name": "stdout",
     "output_type": "stream",
     "text": [
      "\n",
      "'homicide' predicted as 'neonaticide' : 8 examples.\n"
     ]
    },
    {
     "data": {
      "text/html": [
       "<div>\n",
       "<style scoped>\n",
       "    .dataframe tbody tr th:only-of-type {\n",
       "        vertical-align: middle;\n",
       "    }\n",
       "\n",
       "    .dataframe tbody tr th {\n",
       "        vertical-align: top;\n",
       "    }\n",
       "\n",
       "    .dataframe thead th {\n",
       "        text-align: right;\n",
       "    }\n",
       "</style>\n",
       "<table border=\"1\" class=\"dataframe\">\n",
       "  <thead>\n",
       "    <tr style=\"text-align: right;\">\n",
       "      <th></th>\n",
       "      <th>label</th>\n",
       "      <th>text</th>\n",
       "    </tr>\n",
       "  </thead>\n",
       "  <tbody>\n",
       "    <tr>\n",
       "      <th>293</th>\n",
       "      <td>homicide</td>\n",
       "      <td>gun shot wound TO CHEST EXITED MID BACK. ACCOR...</td>\n",
       "    </tr>\n",
       "    <tr>\n",
       "      <th>308</th>\n",
       "      <td>homicide</td>\n",
       "      <td>MOTHER APPARENTLY STABBED HER 3 CHILDREN TO DE...</td>\n",
       "    </tr>\n",
       "    <tr>\n",
       "      <th>259</th>\n",
       "      <td>homicide</td>\n",
       "      <td>SEQUELAE OF SEVERE BIRTH ASPHYXIA MOTHER OF DE...</td>\n",
       "    </tr>\n",
       "    <tr>\n",
       "      <th>294</th>\n",
       "      <td>homicide</td>\n",
       "      <td>MOTHER WITH GUNSHOT WOUND TO THE HEAD.  DELIVE...</td>\n",
       "    </tr>\n",
       "    <tr>\n",
       "      <th>309</th>\n",
       "      <td>homicide</td>\n",
       "      <td>MOTHER APPARENLTY STABBED HER 3 CHILDREN TO DE...</td>\n",
       "    </tr>\n",
       "    <tr>\n",
       "      <th>286</th>\n",
       "      <td>homicide</td>\n",
       "      <td>***** 1ST CALL ******     SUSPECT CALLS POLICE...</td>\n",
       "    </tr>\n",
       "    <tr>\n",
       "      <th>269</th>\n",
       "      <td>homicide</td>\n",
       "      <td>BABY FOUND DURING . SEE CC# 2003-05881 INTRAUT...</td>\n",
       "    </tr>\n",
       "    <tr>\n",
       "      <th>306</th>\n",
       "      <td>homicide</td>\n",
       "      <td>SHARP FORCE TRAUMA TO NECK THE DECEDENT HAD BE...</td>\n",
       "    </tr>\n",
       "  </tbody>\n",
       "</table>\n",
       "</div>"
      ],
      "text/plain": [
       "        label                                               text\n",
       "293  homicide  gun shot wound TO CHEST EXITED MID BACK. ACCOR...\n",
       "308  homicide  MOTHER APPARENTLY STABBED HER 3 CHILDREN TO DE...\n",
       "259  homicide  SEQUELAE OF SEVERE BIRTH ASPHYXIA MOTHER OF DE...\n",
       "294  homicide  MOTHER WITH GUNSHOT WOUND TO THE HEAD.  DELIVE...\n",
       "309  homicide  MOTHER APPARENLTY STABBED HER 3 CHILDREN TO DE...\n",
       "286  homicide  ***** 1ST CALL ******     SUSPECT CALLS POLICE...\n",
       "269  homicide  BABY FOUND DURING . SEE CC# 2003-05881 INTRAUT...\n",
       "306  homicide  SHARP FORCE TRAUMA TO NECK THE DECEDENT HAD BE..."
      ]
     },
     "metadata": {},
     "output_type": "display_data"
    },
    {
     "name": "stdout",
     "output_type": "stream",
     "text": [
      "\n"
     ]
    }
   ],
   "source": [
    "from IPython.display import display\n",
    "for predicted in label_id_df.label_id:\n",
    "  for actual in label_id_df.label_id:\n",
    "    if predicted != actual and conf_mat[actual, predicted] >= 0:\n",
    "      print(\"'{}' predicted as '{}' : {} examples.\".format(id_to_label[actual], id_to_label[predicted], conf_mat[actual, predicted]))\n",
    "      display(df.loc[indices_test[(y_test == actual) & (y_pred == predicted)]][['label', 'text']])\n",
    "      print('')"
   ]
  },
  {
   "cell_type": "code",
   "execution_count": 20,
   "metadata": {},
   "outputs": [
    {
     "name": "stdout",
     "output_type": "stream",
     "text": [
      "# 'asphyxiation':\n",
      "  . Top unigrams:\n",
      "       . play\n",
      "       . pillow\n",
      "       . unresponsive\n",
      "       . recent\n",
      "       . foul\n",
      "       . choking\n",
      "  . Top bigrams:\n",
      "       . foul play\n",
      "       . unresponsive crib\n",
      "       . unresponsive bed\n",
      "       . known history\n",
      "       . er residence\n",
      "       . rigor mortis\n",
      "  . Top trigrams:\n",
      "       . foul play suspected\n",
      "       . subdural hematoma retinal\n",
      "       . hematoma retinal hemorrhages\n",
      "       . multiple blunt force\n",
      "       . presented emergency room\n",
      "       . sexual assault kit\n",
      "# 'child_maltreatment':\n",
      "  . Top unigrams:\n",
      "       . battered\n",
      "       . abuse\n",
      "       . shaken\n",
      "       . boyfriend\n",
      "       . bruising\n",
      "       . bruises\n",
      "  . Top bigrams:\n",
      "       . retinal hemorrhages\n",
      "       . suspected abuse\n",
      "       . hemorrhages seen\n",
      "       . shaken syndrome\n",
      "       . abusive head\n",
      "       . victim abuse\n",
      "  . Top trigrams:\n",
      "       . declared brain dead\n",
      "       . resuscitated cardiac arrest\n",
      "       . sexual assault kit\n",
      "       . bilateral retinal hemorrhages\n",
      "       . altered mental status\n",
      "       . blunt force head\n",
      "# 'family_violence':\n",
      "  . Top unigrams:\n",
      "       . siblings\n",
      "       . brother\n",
      "       . decedents\n",
      "       . stomach\n",
      "       . recovered\n",
      "       . domestic\n",
      "  . Top bigrams:\n",
      "       . sharp force\n",
      "       . inside residence\n",
      "       . dead scene\n",
      "       . residence siblings\n",
      "       . area father\n",
      "       . death emergency\n",
      "  . Top trigrams:\n",
      "       . death emergency room\n",
      "       . inflicted gunshot wound\n",
      "       . self inflicted gunshot\n",
      "       . shot wound shot\n",
      "       . shot wound torso\n",
      "       . altered mental status\n",
      "# 'fatal_neglect':\n",
      "  . Top unigrams:\n",
      "       . bathtub\n",
      "       . neglect\n",
      "       . left\n",
      "       . grandmother\n",
      "       . drowned\n",
      "       . position\n",
      "  . Top bigrams:\n",
      "       . left unattended\n",
      "       . infant unresponsive\n",
      "       . petechial hemorrhages\n",
      "       . death scene\n",
      "       . returned home\n",
      "       . drowning bathtub\n",
      "  . Top trigrams:\n",
      "       . left unattended bathtub\n",
      "       . resuscitated emergency room\n",
      "       . blunt force head\n",
      "       . progressed brain death\n",
      "       . diagnosed subdural hematoma\n",
      "       . history good health\n",
      "# 'homicide':\n",
      "  . Top unigrams:\n",
      "       . shot\n",
      "       . wound\n",
      "       . shooting\n",
      "       . uncle\n",
      "       . gun\n",
      "       . daughter\n",
      "  . Top bigrams:\n",
      "       . stabbed multiple\n",
      "       . wound head\n",
      "       . gun shot\n",
      "       . shot head\n",
      "       . drive shooting\n",
      "       . gang related\n",
      "  . Top trigrams:\n",
      "       . gunshot wound head\n",
      "       . multiple stab wounds\n",
      "       . multiple blunt force\n",
      "       . multiple gun shot\n",
      "       . gun shot wound\n",
      "       . shot wound head\n",
      "# 'neonaticide':\n",
      "  . Top unigrams:\n",
      "       . fetus\n",
      "       . newborn\n",
      "       . plastic\n",
      "       . bag\n",
      "       . stillborn\n",
      "       . trash\n",
      "  . Top bigrams:\n",
      "       . plastic bag\n",
      "       . newborn infant\n",
      "       . weeks gestation\n",
      "       . trash dumpster\n",
      "       . infant delivered\n",
      "       . unknown mechanism\n",
      "  . Top trigrams:\n",
      "       . unknown mechanism injury\n",
      "       . intrauterine fetal demise\n",
      "       . blunt force head\n",
      "       . presented emergency room\n",
      "       . umbilical cord attached\n",
      "       . history good health\n"
     ]
    }
   ],
   "source": [
    "model.fit(features, labels)\n",
    "N = 6\n",
    "for label, label_id in sorted(label_to_id.items()):\n",
    "  indices = np.argsort(model.coef_[label_id])\n",
    "  feature_names = np.array(tfidf.get_feature_names())[indices]\n",
    "  unigrams = [v for v in reversed(feature_names) if len(v.split(' ')) == 1][:N]\n",
    "  bigrams = [v for v in reversed(feature_names) if len(v.split(' ')) == 2][:N]\n",
    "  trigrams = [v for v in reversed(feature_names) if len(v.split(' ')) == 3][:N]\n",
    "  print(\"# '{}':\".format(label))\n",
    "  print(\"  . Top unigrams:\\n       . {}\".format('\\n       . '.join(unigrams)))\n",
    "  print(\"  . Top bigrams:\\n       . {}\".format('\\n       . '.join(bigrams)))\n",
    "  print(\"  . Top trigrams:\\n       . {}\".format('\\n       . '.join(trigrams)))"
   ]
  },
  {
   "cell_type": "code",
   "execution_count": 21,
   "metadata": {},
   "outputs": [
    {
     "name": "stdout",
     "output_type": "stream",
     "text": [
      "                    precision    recall  f1-score   support\n",
      "\n",
      "child_maltreatment       0.62      0.96      0.76        99\n",
      "      asphyxiation       0.74      0.33      0.46        42\n",
      "   family_violence       1.00      0.25      0.40        16\n",
      "     fatal_neglect       0.83      0.52      0.64        48\n",
      "          homicide       0.83      0.65      0.73        52\n",
      "       neonaticide       0.69      0.82      0.75        61\n",
      "\n",
      "       avg / total       0.74      0.70      0.68       318\n",
      "\n"
     ]
    }
   ],
   "source": [
    "from sklearn import metrics\n",
    "print(metrics.classification_report(y_test, y_pred, target_names=df['label'].unique()))"
   ]
  },
  {
   "cell_type": "code",
   "execution_count": 22,
   "metadata": {},
   "outputs": [
    {
     "name": "stdout",
     "output_type": "stream",
     "text": [
      "\"On 4/3/17, while caring for his son., father, fell asleep. C.C.s father was holding him between his arm and his chest. When C.C.s mother, C. G., went to check on him, she noticed that he was purplish in color and unresponsive.\"\n",
      "  - Predicted as: 'child_maltreatment'\n",
      "\n",
      "\"On 6/9/17, J.C. was found cold to the touch, bluish in color, and unresponsive. His mother attempted CPR and 911 was called. J.C. was transported to the hospital and placed on a ventilator. Medical assessments revealed bleeding in his brain and swelling due to excessive fluids\"\n",
      "  - Predicted as: 'fatal_neglect'\n",
      "\n",
      "\"On 7/18/18, T.G. admitted that he back handed C.D., which caused her to fall down the steps and sustain a fatal brain injury. \"\n",
      "  - Predicted as: 'child_maltreatment'\n",
      "\n",
      "\"On 3/5/17, H.D.'s parents reported that they found her unresponsive. 911 was called and she was transported to the hospital. Medical staff was not able to revive her and she passed away on this date. During the investigation by CP&P, it was discovered that H.D. had been sick for well over several weeks and her parents did not seek medical assistance. \"\n",
      "  - Predicted as: 'neonaticide'\n",
      "\n",
      "\"On 8/26/17, K.F.'s mother, D.J., was driving around with her in the back seat, trying to find and purchase drugs. After D.J. obtained the drugs, she drove to a wooded area near her residence, parked, took the drugs, and then passed out. It is unknown how long K.F. and D.J. were sitting in the wooded area, parked in her car. At some point in time, K.F.'s father saw the car lights and inquired about their daughter. K.F. was found in the back seat of the car, unconscious. 911 was called; however, K.F. had passed away. \"\n",
      "  - Predicted as: 'fatal_neglect'\n",
      "\n"
     ]
    }
   ],
   "source": [
    "texts = [\"On 4/3/17, while caring for his son., father, fell asleep. C.C.s father was holding him between his arm and his chest. When C.C.s mother, C. G., went to check on him, she noticed that he was purplish in color and unresponsive.\",\n",
    "         \"On 6/9/17, J.C. was found cold to the touch, bluish in color, and unresponsive. His mother attempted CPR and 911 was called. J.C. was transported to the hospital and placed on a ventilator. Medical assessments revealed bleeding in his brain and swelling due to excessive fluids\",\n",
    "         \"On 7/18/18, T.G. admitted that he back handed C.D., which caused her to fall down the steps and sustain a fatal brain injury. \",\n",
    "         \"On 3/5/17, H.D.'s parents reported that they found her unresponsive. 911 was called and she was transported to the hospital. Medical staff was not able to revive her and she passed away on this date. During the investigation by CP&P, it was discovered that H.D. had been sick for well over several weeks and her parents did not seek medical assistance. \",\n",
    "         \"On 8/26/17, K.F.'s mother, D.J., was driving around with her in the back seat, trying to find and purchase drugs. After D.J. obtained the drugs, she drove to a wooded area near her residence, parked, took the drugs, and then passed out. It is unknown how long K.F. and D.J. were sitting in the wooded area, parked in her car. At some point in time, K.F.'s father saw the car lights and inquired about their daughter. K.F. was found in the back seat of the car, unconscious. 911 was called; however, K.F. had passed away. \"] \n",
    "text_features = tfidf.transform(texts)\n",
    "predictions = model.predict(text_features)\n",
    "for text, predicted in zip(texts, predictions):\n",
    "  print('\"{}\"'.format(text))\n",
    "  print(\"  - Predicted as: '{}'\".format(id_to_label[predicted]))\n",
    "  print(\"\")"
   ]
  },
  {
   "cell_type": "code",
   "execution_count": null,
   "metadata": {},
   "outputs": [],
   "source": []
  }
 ],
 "metadata": {
  "kernelspec": {
   "display_name": "Python 3",
   "language": "python",
   "name": "python3"
  },
  "language_info": {
   "codemirror_mode": {
    "name": "ipython",
    "version": 3
   },
   "file_extension": ".py",
   "mimetype": "text/x-python",
   "name": "python",
   "nbconvert_exporter": "python",
   "pygments_lexer": "ipython3",
   "version": "3.6.5"
  }
 },
 "nbformat": 4,
 "nbformat_minor": 2
}
